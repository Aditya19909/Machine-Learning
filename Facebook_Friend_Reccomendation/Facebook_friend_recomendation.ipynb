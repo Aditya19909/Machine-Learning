{
  "nbformat": 4,
  "nbformat_minor": 0,
  "metadata": {
    "colab": {
      "provenance": []
    },
    "kernelspec": {
      "display_name": "Python 3",
      "language": "python",
      "name": "python3"
    }
  },
  "cells": [
    {
      "cell_type": "markdown",
      "metadata": {
        "id": "naWvqMEMHglO"
      },
      "source": [
        "<p style=\"font-size:32px;text-align:center\"> <b>Social network Graph Link Prediction - Facebook Challenge</b> </p>"
      ]
    },
    {
      "cell_type": "code",
      "metadata": {
        "id": "9wb9N5RzHglP"
      },
      "source": [
        "#Importing Libraries\n",
        "# please do go through this python notebook: \n",
        "import warnings\n",
        "warnings.filterwarnings(\"ignore\")\n",
        "from scipy.stats import randint as sp_randint\n",
        "import csv\n",
        "import pandas as pd#pandas to create small dataframes \n",
        "import datetime #Convert to unix time\n",
        "import time #Convert to unix time\n",
        "# if numpy is not installed already : pip3 install numpy\n",
        "import numpy as np#Do aritmetic operations on arrays\n",
        "# matplotlib: used to plot graphs\n",
        "import matplotlib\n",
        "import matplotlib.pylab as plt\n",
        "import seaborn as sns#Plots\n",
        "from matplotlib import rcParams#Size of plots  \n",
        "from sklearn.cluster import MiniBatchKMeans, KMeans#Clustering\n",
        "import math\n",
        "import pickle\n",
        "import os\n",
        "# to install xgboost: pip3 install xgboost\n",
        "import xgboost as xgb\n",
        "\n",
        "import warnings\n",
        "import networkx as nx\n",
        "import pdb\n",
        "import pickle\n",
        "from pandas import HDFStore,DataFrame\n",
        "from pandas import read_hdf\n",
        "from scipy.sparse.linalg import svds, eigs\n",
        "import gc\n",
        "from tqdm import tqdm\n",
        "from sklearn.ensemble import RandomForestClassifier\n",
        "from sklearn.metrics import f1_score"
      ],
      "execution_count": null,
      "outputs": []
    },
    {
      "cell_type": "code",
      "metadata": {
        "colab": {
          "base_uri": "https://localhost:8080/"
        },
        "id": "ReuQGYJUsRxn",
        "outputId": "7d8a7e36-12c9-4edb-ba7b-5679f3d16754"
      },
      "source": [
        "!wget --header=\"Host: doc-0o-bk-docs.googleusercontent.com\" --header=\"User-Agent: Mozilla/5.0 (Windows NT 10.0; Win64; x64) AppleWebKit/537.36 (KHTML, like Gecko) Chrome/90.0.4430.212 Safari/537.36\" --header=\"Accept: text/html,application/xhtml+xml,application/xml;q=0.9,image/avif,image/webp,image/apng,*/*;q=0.8,application/signed-exchange;v=b3;q=0.9\" --header=\"Accept-Language: en-US,en;q=0.9\" --header=\"Cookie: AUTH_nso6dcn1mbidkt5qr539a2jiefc09pqv_nonce=iak2ig7rpq664\" --header=\"Connection: keep-alive\" \"https://doc-0o-bk-docs.googleusercontent.com/docs/securesc/nss2f5s2soorprev6d4t4qp3n5ekp9nh/evl2j2j4t5hronicnhsbdlsblnbl9qk3/1622116650000/06629147635963609455/13017565264516993811/1fDJptlCFEWNV5UNGPc4geTykgFI3PDCV?e=download&authuser=0&nonce=iak2ig7rpq664&user=13017565264516993811&hash=fvl5s6dohfnqle6k8q3koe9jr2mhe6jr\" -c -O 'storage_sample_stage4.h5'"
      ],
      "execution_count": null,
      "outputs": [
        {
          "output_type": "stream",
          "name": "stdout",
          "text": [
            "--2022-09-08 12:55:28--  https://doc-0o-bk-docs.googleusercontent.com/docs/securesc/nss2f5s2soorprev6d4t4qp3n5ekp9nh/evl2j2j4t5hronicnhsbdlsblnbl9qk3/1622116650000/06629147635963609455/13017565264516993811/1fDJptlCFEWNV5UNGPc4geTykgFI3PDCV?e=download&authuser=0&nonce=iak2ig7rpq664&user=13017565264516993811&hash=fvl5s6dohfnqle6k8q3koe9jr2mhe6jr\n",
            "Resolving doc-0o-bk-docs.googleusercontent.com (doc-0o-bk-docs.googleusercontent.com)... 74.125.31.132, 2607:f8b0:400c:c02::84\n",
            "Connecting to doc-0o-bk-docs.googleusercontent.com (doc-0o-bk-docs.googleusercontent.com)|74.125.31.132|:443... connected.\n",
            "HTTP request sent, awaiting response... 403 Forbidden\n",
            "2022-09-08 12:55:28 ERROR 403: Forbidden.\n",
            "\n"
          ]
        }
      ]
    },
    {
      "cell_type": "code",
      "source": [
        "from google.colab import drive\n",
        "drive.mount('/content/drive')"
      ],
      "metadata": {
        "colab": {
          "base_uri": "https://localhost:8080/"
        },
        "id": "sdD6Dm3cyCan",
        "outputId": "00f0d698-91ae-455b-e794-615ef745505a"
      },
      "execution_count": null,
      "outputs": [
        {
          "output_type": "stream",
          "name": "stdout",
          "text": [
            "Mounted at /content/drive\n"
          ]
        }
      ]
    },
    {
      "cell_type": "code",
      "metadata": {
        "id": "XC4OJFKkHglU"
      },
      "source": [
        "#reading\n",
        "from pandas import read_hdf\n",
        "df_final_train = read_hdf('/content/drive/MyDrive/Colab Notebooks/Assignments/fea_sample/storage_sample_stage4.h5', 'train_df',mode='r')\n",
        "df_final_test = read_hdf('/content/drive/MyDrive/Colab Notebooks/Assignments/fea_sample/storage_sample_stage4.h5', 'test_df',mode='r')"
      ],
      "execution_count": null,
      "outputs": []
    },
    {
      "cell_type": "code",
      "source": [
        "df_final_test.head()"
      ],
      "metadata": {
        "colab": {
          "base_uri": "https://localhost:8080/",
          "height": 386
        },
        "id": "t0RnG12mQCt1",
        "outputId": "820e2b6f-d575-4412-ba2b-f355c1240ec8"
      },
      "execution_count": null,
      "outputs": [
        {
          "output_type": "execute_result",
          "data": {
            "text/plain": [
              "   source_node  destination_node  indicator_link  jaccard_followers  \\\n",
              "0       848424            784690               1                  0   \n",
              "1       483294           1255532               1                  0   \n",
              "2       626190           1729265               1                  0   \n",
              "3       947219            425228               1                  0   \n",
              "4       991374            975044               1                  0   \n",
              "\n",
              "   jaccard_followees  cosine_followers  cosine_followees  num_followers_s  \\\n",
              "0                0.0          0.029161          0.000000               14   \n",
              "1                0.0          0.000000          0.000000               17   \n",
              "2                0.0          0.000000          0.000000               10   \n",
              "3                0.0          0.000000          0.000000               37   \n",
              "4                0.2          0.042767          0.347833               27   \n",
              "\n",
              "   num_followees_s  num_followees_d  ...     svd_v_s_3     svd_v_s_4  \\\n",
              "0                6                9  ...  5.904807e-11  2.701538e-12   \n",
              "1                1               19  ...  2.545382e-10  2.248568e-14   \n",
              "2               16                9  ...  1.122150e-05  1.778927e-12   \n",
              "3               10               34  ...  5.223676e-06  7.917166e-13   \n",
              "4               15               27  ...  1.035016e-06  1.361574e-13   \n",
              "\n",
              "      svd_v_s_5     svd_v_s_6     svd_v_d_1     svd_v_d_2     svd_v_d_3  \\\n",
              "0  4.341620e-13  5.535503e-14 -9.994076e-10  5.791910e-10  3.512364e-07   \n",
              "1  3.600957e-13  4.701436e-15 -9.360516e-12  3.206809e-10  4.668696e-08   \n",
              "2  2.740535e-13  4.199834e-14 -4.253075e-13  4.789463e-13  3.479824e-07   \n",
              "3  4.020707e-12  2.817657e-13 -2.162590e-11  6.939194e-12  1.879861e-05   \n",
              "4  1.154623e-12  9.656662e-14 -8.742904e-12  7.467370e-12  1.256880e-05   \n",
              "\n",
              "      svd_v_d_4     svd_v_d_5     svd_v_d_6  \n",
              "0  2.486658e-09  2.771146e-09  1.727694e-12  \n",
              "1  6.665777e-12  1.495979e-10  9.836670e-14  \n",
              "2  1.630549e-13  3.954708e-13  3.875785e-14  \n",
              "3  4.384816e-12  1.239414e-11  6.483485e-13  \n",
              "4  3.636983e-12  3.948463e-12  2.415863e-13  \n",
              "\n",
              "[5 rows x 54 columns]"
            ],
            "text/html": [
              "\n",
              "  <div id=\"df-8f194fd2-92c4-4a0a-9c97-b14dd7ae21d3\">\n",
              "    <div class=\"colab-df-container\">\n",
              "      <div>\n",
              "<style scoped>\n",
              "    .dataframe tbody tr th:only-of-type {\n",
              "        vertical-align: middle;\n",
              "    }\n",
              "\n",
              "    .dataframe tbody tr th {\n",
              "        vertical-align: top;\n",
              "    }\n",
              "\n",
              "    .dataframe thead th {\n",
              "        text-align: right;\n",
              "    }\n",
              "</style>\n",
              "<table border=\"1\" class=\"dataframe\">\n",
              "  <thead>\n",
              "    <tr style=\"text-align: right;\">\n",
              "      <th></th>\n",
              "      <th>source_node</th>\n",
              "      <th>destination_node</th>\n",
              "      <th>indicator_link</th>\n",
              "      <th>jaccard_followers</th>\n",
              "      <th>jaccard_followees</th>\n",
              "      <th>cosine_followers</th>\n",
              "      <th>cosine_followees</th>\n",
              "      <th>num_followers_s</th>\n",
              "      <th>num_followees_s</th>\n",
              "      <th>num_followees_d</th>\n",
              "      <th>...</th>\n",
              "      <th>svd_v_s_3</th>\n",
              "      <th>svd_v_s_4</th>\n",
              "      <th>svd_v_s_5</th>\n",
              "      <th>svd_v_s_6</th>\n",
              "      <th>svd_v_d_1</th>\n",
              "      <th>svd_v_d_2</th>\n",
              "      <th>svd_v_d_3</th>\n",
              "      <th>svd_v_d_4</th>\n",
              "      <th>svd_v_d_5</th>\n",
              "      <th>svd_v_d_6</th>\n",
              "    </tr>\n",
              "  </thead>\n",
              "  <tbody>\n",
              "    <tr>\n",
              "      <th>0</th>\n",
              "      <td>848424</td>\n",
              "      <td>784690</td>\n",
              "      <td>1</td>\n",
              "      <td>0</td>\n",
              "      <td>0.0</td>\n",
              "      <td>0.029161</td>\n",
              "      <td>0.000000</td>\n",
              "      <td>14</td>\n",
              "      <td>6</td>\n",
              "      <td>9</td>\n",
              "      <td>...</td>\n",
              "      <td>5.904807e-11</td>\n",
              "      <td>2.701538e-12</td>\n",
              "      <td>4.341620e-13</td>\n",
              "      <td>5.535503e-14</td>\n",
              "      <td>-9.994076e-10</td>\n",
              "      <td>5.791910e-10</td>\n",
              "      <td>3.512364e-07</td>\n",
              "      <td>2.486658e-09</td>\n",
              "      <td>2.771146e-09</td>\n",
              "      <td>1.727694e-12</td>\n",
              "    </tr>\n",
              "    <tr>\n",
              "      <th>1</th>\n",
              "      <td>483294</td>\n",
              "      <td>1255532</td>\n",
              "      <td>1</td>\n",
              "      <td>0</td>\n",
              "      <td>0.0</td>\n",
              "      <td>0.000000</td>\n",
              "      <td>0.000000</td>\n",
              "      <td>17</td>\n",
              "      <td>1</td>\n",
              "      <td>19</td>\n",
              "      <td>...</td>\n",
              "      <td>2.545382e-10</td>\n",
              "      <td>2.248568e-14</td>\n",
              "      <td>3.600957e-13</td>\n",
              "      <td>4.701436e-15</td>\n",
              "      <td>-9.360516e-12</td>\n",
              "      <td>3.206809e-10</td>\n",
              "      <td>4.668696e-08</td>\n",
              "      <td>6.665777e-12</td>\n",
              "      <td>1.495979e-10</td>\n",
              "      <td>9.836670e-14</td>\n",
              "    </tr>\n",
              "    <tr>\n",
              "      <th>2</th>\n",
              "      <td>626190</td>\n",
              "      <td>1729265</td>\n",
              "      <td>1</td>\n",
              "      <td>0</td>\n",
              "      <td>0.0</td>\n",
              "      <td>0.000000</td>\n",
              "      <td>0.000000</td>\n",
              "      <td>10</td>\n",
              "      <td>16</td>\n",
              "      <td>9</td>\n",
              "      <td>...</td>\n",
              "      <td>1.122150e-05</td>\n",
              "      <td>1.778927e-12</td>\n",
              "      <td>2.740535e-13</td>\n",
              "      <td>4.199834e-14</td>\n",
              "      <td>-4.253075e-13</td>\n",
              "      <td>4.789463e-13</td>\n",
              "      <td>3.479824e-07</td>\n",
              "      <td>1.630549e-13</td>\n",
              "      <td>3.954708e-13</td>\n",
              "      <td>3.875785e-14</td>\n",
              "    </tr>\n",
              "    <tr>\n",
              "      <th>3</th>\n",
              "      <td>947219</td>\n",
              "      <td>425228</td>\n",
              "      <td>1</td>\n",
              "      <td>0</td>\n",
              "      <td>0.0</td>\n",
              "      <td>0.000000</td>\n",
              "      <td>0.000000</td>\n",
              "      <td>37</td>\n",
              "      <td>10</td>\n",
              "      <td>34</td>\n",
              "      <td>...</td>\n",
              "      <td>5.223676e-06</td>\n",
              "      <td>7.917166e-13</td>\n",
              "      <td>4.020707e-12</td>\n",
              "      <td>2.817657e-13</td>\n",
              "      <td>-2.162590e-11</td>\n",
              "      <td>6.939194e-12</td>\n",
              "      <td>1.879861e-05</td>\n",
              "      <td>4.384816e-12</td>\n",
              "      <td>1.239414e-11</td>\n",
              "      <td>6.483485e-13</td>\n",
              "    </tr>\n",
              "    <tr>\n",
              "      <th>4</th>\n",
              "      <td>991374</td>\n",
              "      <td>975044</td>\n",
              "      <td>1</td>\n",
              "      <td>0</td>\n",
              "      <td>0.2</td>\n",
              "      <td>0.042767</td>\n",
              "      <td>0.347833</td>\n",
              "      <td>27</td>\n",
              "      <td>15</td>\n",
              "      <td>27</td>\n",
              "      <td>...</td>\n",
              "      <td>1.035016e-06</td>\n",
              "      <td>1.361574e-13</td>\n",
              "      <td>1.154623e-12</td>\n",
              "      <td>9.656662e-14</td>\n",
              "      <td>-8.742904e-12</td>\n",
              "      <td>7.467370e-12</td>\n",
              "      <td>1.256880e-05</td>\n",
              "      <td>3.636983e-12</td>\n",
              "      <td>3.948463e-12</td>\n",
              "      <td>2.415863e-13</td>\n",
              "    </tr>\n",
              "  </tbody>\n",
              "</table>\n",
              "<p>5 rows × 54 columns</p>\n",
              "</div>\n",
              "      <button class=\"colab-df-convert\" onclick=\"convertToInteractive('df-8f194fd2-92c4-4a0a-9c97-b14dd7ae21d3')\"\n",
              "              title=\"Convert this dataframe to an interactive table.\"\n",
              "              style=\"display:none;\">\n",
              "        \n",
              "  <svg xmlns=\"http://www.w3.org/2000/svg\" height=\"24px\"viewBox=\"0 0 24 24\"\n",
              "       width=\"24px\">\n",
              "    <path d=\"M0 0h24v24H0V0z\" fill=\"none\"/>\n",
              "    <path d=\"M18.56 5.44l.94 2.06.94-2.06 2.06-.94-2.06-.94-.94-2.06-.94 2.06-2.06.94zm-11 1L8.5 8.5l.94-2.06 2.06-.94-2.06-.94L8.5 2.5l-.94 2.06-2.06.94zm10 10l.94 2.06.94-2.06 2.06-.94-2.06-.94-.94-2.06-.94 2.06-2.06.94z\"/><path d=\"M17.41 7.96l-1.37-1.37c-.4-.4-.92-.59-1.43-.59-.52 0-1.04.2-1.43.59L10.3 9.45l-7.72 7.72c-.78.78-.78 2.05 0 2.83L4 21.41c.39.39.9.59 1.41.59.51 0 1.02-.2 1.41-.59l7.78-7.78 2.81-2.81c.8-.78.8-2.07 0-2.86zM5.41 20L4 18.59l7.72-7.72 1.47 1.35L5.41 20z\"/>\n",
              "  </svg>\n",
              "      </button>\n",
              "      \n",
              "  <style>\n",
              "    .colab-df-container {\n",
              "      display:flex;\n",
              "      flex-wrap:wrap;\n",
              "      gap: 12px;\n",
              "    }\n",
              "\n",
              "    .colab-df-convert {\n",
              "      background-color: #E8F0FE;\n",
              "      border: none;\n",
              "      border-radius: 50%;\n",
              "      cursor: pointer;\n",
              "      display: none;\n",
              "      fill: #1967D2;\n",
              "      height: 32px;\n",
              "      padding: 0 0 0 0;\n",
              "      width: 32px;\n",
              "    }\n",
              "\n",
              "    .colab-df-convert:hover {\n",
              "      background-color: #E2EBFA;\n",
              "      box-shadow: 0px 1px 2px rgba(60, 64, 67, 0.3), 0px 1px 3px 1px rgba(60, 64, 67, 0.15);\n",
              "      fill: #174EA6;\n",
              "    }\n",
              "\n",
              "    [theme=dark] .colab-df-convert {\n",
              "      background-color: #3B4455;\n",
              "      fill: #D2E3FC;\n",
              "    }\n",
              "\n",
              "    [theme=dark] .colab-df-convert:hover {\n",
              "      background-color: #434B5C;\n",
              "      box-shadow: 0px 1px 3px 1px rgba(0, 0, 0, 0.15);\n",
              "      filter: drop-shadow(0px 1px 2px rgba(0, 0, 0, 0.3));\n",
              "      fill: #FFFFFF;\n",
              "    }\n",
              "  </style>\n",
              "\n",
              "      <script>\n",
              "        const buttonEl =\n",
              "          document.querySelector('#df-8f194fd2-92c4-4a0a-9c97-b14dd7ae21d3 button.colab-df-convert');\n",
              "        buttonEl.style.display =\n",
              "          google.colab.kernel.accessAllowed ? 'block' : 'none';\n",
              "\n",
              "        async function convertToInteractive(key) {\n",
              "          const element = document.querySelector('#df-8f194fd2-92c4-4a0a-9c97-b14dd7ae21d3');\n",
              "          const dataTable =\n",
              "            await google.colab.kernel.invokeFunction('convertToInteractive',\n",
              "                                                     [key], {});\n",
              "          if (!dataTable) return;\n",
              "\n",
              "          const docLinkHtml = 'Like what you see? Visit the ' +\n",
              "            '<a target=\"_blank\" href=https://colab.research.google.com/notebooks/data_table.ipynb>data table notebook</a>'\n",
              "            + ' to learn more about interactive tables.';\n",
              "          element.innerHTML = '';\n",
              "          dataTable['output_type'] = 'display_data';\n",
              "          await google.colab.output.renderOutput(dataTable, element);\n",
              "          const docLink = document.createElement('div');\n",
              "          docLink.innerHTML = docLinkHtml;\n",
              "          element.appendChild(docLink);\n",
              "        }\n",
              "      </script>\n",
              "    </div>\n",
              "  </div>\n",
              "  "
            ]
          },
          "metadata": {},
          "execution_count": 5
        }
      ]
    },
    {
      "cell_type": "code",
      "metadata": {
        "id": "5Gm-BHRkHglW",
        "colab": {
          "base_uri": "https://localhost:8080/"
        },
        "outputId": "1b3ec9d2-e7d3-47ae-e629-fe038ae9aec7"
      },
      "source": [
        "df_final_train.columns"
      ],
      "execution_count": null,
      "outputs": [
        {
          "output_type": "execute_result",
          "data": {
            "text/plain": [
              "Index(['source_node', 'destination_node', 'indicator_link',\n",
              "       'jaccard_followers', 'jaccard_followees', 'cosine_followers',\n",
              "       'cosine_followees', 'num_followers_s', 'num_followees_s',\n",
              "       'num_followees_d', 'inter_followers', 'inter_followees', 'adar_index',\n",
              "       'follows_back', 'same_comp', 'shortest_path', 'weight_in', 'weight_out',\n",
              "       'weight_f1', 'weight_f2', 'weight_f3', 'weight_f4', 'page_rank_s',\n",
              "       'page_rank_d', 'katz_s', 'katz_d', 'hubs_s', 'hubs_d', 'authorities_s',\n",
              "       'authorities_d', 'svd_u_s_1', 'svd_u_s_2', 'svd_u_s_3', 'svd_u_s_4',\n",
              "       'svd_u_s_5', 'svd_u_s_6', 'svd_u_d_1', 'svd_u_d_2', 'svd_u_d_3',\n",
              "       'svd_u_d_4', 'svd_u_d_5', 'svd_u_d_6', 'svd_v_s_1', 'svd_v_s_2',\n",
              "       'svd_v_s_3', 'svd_v_s_4', 'svd_v_s_5', 'svd_v_s_6', 'svd_v_d_1',\n",
              "       'svd_v_d_2', 'svd_v_d_3', 'svd_v_d_4', 'svd_v_d_5', 'svd_v_d_6'],\n",
              "      dtype='object')"
            ]
          },
          "metadata": {},
          "execution_count": 6
        }
      ]
    },
    {
      "cell_type": "code",
      "metadata": {
        "id": "XRW7VZ4AHglc"
      },
      "source": [
        "y_train = df_final_train.indicator_link\n",
        "y_test = df_final_test.indicator_link"
      ],
      "execution_count": null,
      "outputs": []
    },
    {
      "cell_type": "code",
      "metadata": {
        "id": "4lj9M_qtHglf"
      },
      "source": [
        "df_final_train.drop(['source_node', 'destination_node','indicator_link'],axis=1,inplace=True)\n",
        "df_final_test.drop(['source_node', 'destination_node','indicator_link'],axis=1,inplace=True)"
      ],
      "execution_count": null,
      "outputs": []
    },
    {
      "cell_type": "code",
      "metadata": {
        "id": "lIEc91uVHgli",
        "colab": {
          "base_uri": "https://localhost:8080/",
          "height": 402
        },
        "outputId": "e138c806-6344-4b01-b514-e2c6ed069880"
      },
      "source": [
        "estimators = [10,50,100,250,450]\n",
        "train_scores = []\n",
        "test_scores = []\n",
        "for i in estimators:\n",
        "    clf = RandomForestClassifier(bootstrap=True, class_weight=None, criterion='gini',\n",
        "            max_depth=5, max_features='auto', max_leaf_nodes=None,\n",
        "            min_impurity_decrease=0.0,\n",
        "            min_samples_leaf=52, min_samples_split=120,\n",
        "            min_weight_fraction_leaf=0.0, n_estimators=i, n_jobs=-1,random_state=25,verbose=0,warm_start=False)\n",
        "    clf.fit(df_final_train,y_train)\n",
        "    train_sc = f1_score(y_train,clf.predict(df_final_train))\n",
        "    test_sc = f1_score(y_test,clf.predict(df_final_test))\n",
        "    test_scores.append(test_sc)\n",
        "    train_scores.append(train_sc)\n",
        "    print('Estimators = ',i,'Train Score',train_sc,'test Score',test_sc)\n",
        "plt.plot(estimators,train_scores,label='Train Score')\n",
        "plt.plot(estimators,test_scores,label='Test Score')\n",
        "plt.xlabel('Estimators')\n",
        "plt.ylabel('Score')\n",
        "plt.title('Estimators vs score at depth of 5')"
      ],
      "execution_count": null,
      "outputs": [
        {
          "output_type": "stream",
          "name": "stdout",
          "text": [
            "Estimators =  10 Train Score 0.9063252121775113 test Score 0.8745605278006858\n",
            "Estimators =  50 Train Score 0.9205725512208812 test Score 0.9125653355634538\n",
            "Estimators =  100 Train Score 0.9238690848446947 test Score 0.9141199714153599\n",
            "Estimators =  250 Train Score 0.9239789348046863 test Score 0.9188007232664732\n",
            "Estimators =  450 Train Score 0.9237190618658074 test Score 0.9161507685828595\n"
          ]
        },
        {
          "output_type": "execute_result",
          "data": {
            "text/plain": [
              "Text(0.5, 1.0, 'Estimators vs score at depth of 5')"
            ]
          },
          "metadata": {},
          "execution_count": 9
        },
        {
          "output_type": "display_data",
          "data": {
            "text/plain": [
              "<Figure size 432x288 with 1 Axes>"
            ],
            "image/png": "[encoded data removed]"
          },
          "metadata": {
            "needs_background": "light"
          }
        }
      ]
    },
    {
      "cell_type": "code",
      "metadata": {
        "id": "nZxhrTdQHglm",
        "outputId": "6d559b4d-a2b3-4a4a-d589-4a608ff10255",
        "colab": {
          "base_uri": "https://localhost:8080/",
          "height": 456
        }
      },
      "source": [
        "depths = [3,9,11,15,20,35,50,70,130]\n",
        "train_scores = []\n",
        "test_scores = []\n",
        "for i in depths:\n",
        "    clf = RandomForestClassifier(bootstrap=True, class_weight=None, criterion='gini',\n",
        "            max_depth=i, max_features='auto', max_leaf_nodes=None,\n",
        "            min_impurity_decrease=0.0,\n",
        "            min_samples_leaf=52, min_samples_split=120,\n",
        "            min_weight_fraction_leaf=0.0, n_estimators=115, n_jobs=-1,random_state=25,verbose=0,warm_start=False)\n",
        "    clf.fit(df_final_train,y_train)\n",
        "    train_sc = f1_score(y_train,clf.predict(df_final_train))\n",
        "    test_sc = f1_score(y_test,clf.predict(df_final_test))\n",
        "    test_scores.append(test_sc)\n",
        "    train_scores.append(train_sc)\n",
        "    print('depth = ',i,'Train Score',train_sc,'test Score',test_sc)\n",
        "plt.plot(depths,train_scores,label='Train Score')\n",
        "plt.plot(depths,test_scores,label='Test Score')\n",
        "plt.xlabel('Depth')\n",
        "plt.ylabel('Score')\n",
        "plt.title('Depth vs score at depth of 5 at estimators = 115')\n",
        "plt.show()"
      ],
      "execution_count": null,
      "outputs": [
        {
          "output_type": "stream",
          "name": "stdout",
          "text": [
            "depth =  3 Train Score 0.8916120853581238 test Score 0.8687934859875491\n",
            "depth =  9 Train Score 0.9572226298198419 test Score 0.9222953031452904\n",
            "depth =  11 Train Score 0.9623451340902863 test Score 0.9252318758281279\n",
            "depth =  15 Train Score 0.9634267621927706 test Score 0.9231288356496615\n",
            "depth =  20 Train Score 0.9631629153051491 test Score 0.9235051024711141\n",
            "depth =  35 Train Score 0.9634333127085721 test Score 0.9235601652753184\n",
            "depth =  50 Train Score 0.9634333127085721 test Score 0.9235601652753184\n",
            "depth =  70 Train Score 0.9634333127085721 test Score 0.9235601652753184\n",
            "depth =  130 Train Score 0.9634333127085721 test Score 0.9235601652753184\n"
          ]
        },
        {
          "output_type": "display_data",
          "data": {
            "text/plain": [
              "<Figure size 432x288 with 1 Axes>"
            ],
            "image/png": "[encoded data removed]"
          },
          "metadata": {
            "needs_background": "light"
          }
        }
      ]
    },
    {
      "cell_type": "code",
      "metadata": {
        "id": "MrG1Lfl3Hglq"
      },
      "source": [
        "from sklearn.metrics import f1_score\n",
        "from sklearn.ensemble import RandomForestClassifier\n",
        "from sklearn.metrics import f1_score\n",
        "from sklearn.model_selection import RandomizedSearchCV\n",
        "from scipy.stats import randint as sp_randint\n",
        "from scipy.stats import uniform\n",
        "\n",
        "param_dist = {\"n_estimators\":sp_randint(105,125),\n",
        "              \"max_depth\": sp_randint(10,15),\n",
        "              \"min_samples_split\": sp_randint(110,190),\n",
        "              \"min_samples_leaf\": sp_randint(25,65)}\n",
        "\n",
        "clf = RandomForestClassifier(random_state=25,n_jobs=-1)\n",
        "\n",
        "rf_random = RandomizedSearchCV(clf, param_distributions=param_dist,\n",
        "                                   n_iter=5,cv=10,scoring='f1',random_state=25,return_train_score=True)\n",
        "\n",
        "rf_random.fit(df_final_train,y_train)\n",
        "print('mean test scores',rf_random.cv_results_['mean_test_score'])\n",
        "print('mean train scores',rf_random.cv_results_['mean_train_score'])"
      ],
      "execution_count": null,
      "outputs": []
    },
    {
      "cell_type": "code",
      "metadata": {
        "id": "hme3j_diHglu",
        "outputId": "594bfec7-1c6c-418f-9b2a-715f2500fc4e",
        "colab": {
          "base_uri": "https://localhost:8080/"
        }
      },
      "source": [
        "print(rf_random.best_estimator_)"
      ],
      "execution_count": null,
      "outputs": [
        {
          "output_type": "stream",
          "name": "stdout",
          "text": [
            "RandomForestClassifier(max_depth=14, min_samples_leaf=28, min_samples_split=111,\n",
            "                       n_estimators=121, n_jobs=-1, random_state=25)\n"
          ]
        }
      ]
    },
    {
      "cell_type": "code",
      "metadata": {
        "id": "qu4KIEweHglx"
      },
      "source": [
        "clf = RandomForestClassifier(bootstrap=True, class_weight=None, criterion='gini',\n",
        "            max_depth=14, max_features='auto', max_leaf_nodes=None,\n",
        "            min_impurity_decrease=0.0,\n",
        "            min_samples_leaf=28, min_samples_split=111,\n",
        "            min_weight_fraction_leaf=0.0, n_estimators=121, n_jobs=-1,\n",
        "            oob_score=False, random_state=25, verbose=0, warm_start=False)"
      ],
      "execution_count": null,
      "outputs": []
    },
    {
      "cell_type": "code",
      "metadata": {
        "id": "Dax83GfLHgl1"
      },
      "source": [
        "clf.fit(df_final_train,y_train)\n",
        "y_train_pred = clf.predict(df_final_train)\n",
        "y_test_pred = clf.predict(df_final_test)"
      ],
      "execution_count": null,
      "outputs": []
    },
    {
      "cell_type": "code",
      "metadata": {
        "id": "PTtAp1iTHgl4",
        "outputId": "5c66bcac-93d4-45ec-d090-58d649642cdf",
        "colab": {
          "base_uri": "https://localhost:8080/"
        }
      },
      "source": [
        "from sklearn.metrics import f1_score\n",
        "print('Train f1 score',f1_score(y_train,y_train_pred))\n",
        "print('Test f1 score',f1_score(y_test,y_test_pred))"
      ],
      "execution_count": null,
      "outputs": [
        {
          "output_type": "stream",
          "name": "stdout",
          "text": [
            "Train f1 score 0.9652533106548414\n",
            "Test f1 score 0.9241678239279553\n"
          ]
        }
      ]
    },
    {
      "cell_type": "code",
      "metadata": {
        "id": "5XfUkZYQHgl7"
      },
      "source": [
        "from sklearn.metrics import confusion_matrix\n",
        "\n",
        "def plot_confusion_matrix(test_y, predict_y):\n",
        "    C = confusion_matrix(test_y, predict_y)\n",
        "    \n",
        "    A =(((C.T)/(C.sum(axis=1))).T)\n",
        "    \n",
        "    B =(C/C.sum(axis=0))\n",
        "    plt.figure(figsize=(20,4))\n",
        "    \n",
        "    labels = [0,1]\n",
        "    # representing A in heatmap format\n",
        "    cmap=sns.light_palette(\"blue\")\n",
        "    plt.subplot(1, 3, 1)\n",
        "    sns.heatmap(C, annot=True, cmap=cmap, fmt=\".3f\", xticklabels=labels, yticklabels=labels)\n",
        "    plt.xlabel('Predicted Class')\n",
        "    plt.ylabel('Original Class')\n",
        "    plt.title(\"Confusion matrix\")\n",
        "    \n",
        "    plt.subplot(1, 3, 2)\n",
        "    sns.heatmap(B, annot=True, cmap=cmap, fmt=\".3f\", xticklabels=labels, yticklabels=labels)\n",
        "    plt.xlabel('Predicted Class')\n",
        "    plt.ylabel('Original Class')\n",
        "    plt.title(\"Precision matrix\")\n",
        "    \n",
        "    plt.subplot(1, 3, 3)\n",
        "    # representing B in heatmap format\n",
        "    sns.heatmap(A, annot=True, cmap=cmap, fmt=\".3f\", xticklabels=labels, yticklabels=labels)\n",
        "    plt.xlabel('Predicted Class')\n",
        "    plt.ylabel('Original Class')\n",
        "    plt.title(\"Recall matrix\")\n",
        "    \n",
        "    plt.show()"
      ],
      "execution_count": null,
      "outputs": []
    },
    {
      "cell_type": "code",
      "metadata": {
        "id": "s6t11dhTHgl-",
        "outputId": "395bdcb3-6cf4-4b0c-b71f-b7cf3da928f6",
        "colab": {
          "base_uri": "https://localhost:8080/",
          "height": 576
        }
      },
      "source": [
        "print('Train confusion_matrix')\n",
        "plot_confusion_matrix(y_train,y_train_pred)\n",
        "print('Test confusion_matrix')\n",
        "plot_confusion_matrix(y_test,y_test_pred)"
      ],
      "execution_count": null,
      "outputs": [
        {
          "output_type": "stream",
          "name": "stdout",
          "text": [
            "Train confusion_matrix\n"
          ]
        },
        {
          "output_type": "display_data",
          "data": {
            "text/plain": [
              "<Figure size 1440x288 with 6 Axes>"
            ],
            "image/png": "[encoded data removed]"
          },
          "metadata": {
            "needs_background": "light"
          }
        },
        {
          "output_type": "stream",
          "name": "stdout",
          "text": [
            "Test confusion_matrix\n"
          ]
        },
        {
          "output_type": "display_data",
          "data": {
            "text/plain": [
              "<Figure size 1440x288 with 6 Axes>"
            ],
            "image/png": "[encoded data removed]"
          },
          "metadata": {
            "needs_background": "light"
          }
        }
      ]
    },
    {
      "cell_type": "code",
      "metadata": {
        "id": "61TF-VLeHgmD",
        "outputId": "e47e0616-e8e8-4b51-e332-2fd97afd7a05",
        "colab": {
          "base_uri": "https://localhost:8080/",
          "height": 295
        }
      },
      "source": [
        "from sklearn.metrics import roc_curve, auc\n",
        "fpr,tpr,ths = roc_curve(y_test,y_test_pred)\n",
        "auc_sc = auc(fpr, tpr)\n",
        "plt.plot(fpr, tpr, color='navy',label='ROC curve (area = %0.2f)' % auc_sc)\n",
        "plt.xlabel('False Positive Rate')\n",
        "plt.ylabel('True Positive Rate')\n",
        "plt.title('Receiver operating characteristic with test data')\n",
        "plt.legend()\n",
        "plt.show()"
      ],
      "execution_count": null,
      "outputs": [
        {
          "output_type": "display_data",
          "data": {
            "text/plain": [
              "<Figure size 432x288 with 1 Axes>"
            ],
            "image/png": "[encoded data removed]"
          },
          "metadata": {
            "needs_background": "light"
          }
        }
      ]
    },
    {
      "cell_type": "code",
      "metadata": {
        "scrolled": false,
        "id": "HEZ7uvN6HgmK",
        "outputId": "ac6a1910-b44b-43d8-976e-65617ba5596e",
        "colab": {
          "base_uri": "https://localhost:8080/",
          "height": 730
        }
      },
      "source": [
        "features = df_final_train.columns\n",
        "importances = clf.feature_importances_\n",
        "indices = (np.argsort(importances))[-25:]\n",
        "plt.figure(figsize=(10,12))\n",
        "plt.title('Feature Importances')\n",
        "plt.barh(range(len(indices)), importances[indices], color='r', align='center')\n",
        "plt.yticks(range(len(indices)), [features[i] for i in indices])\n",
        "plt.xlabel('Relative Importance')\n",
        "plt.show()"
      ],
      "execution_count": null,
      "outputs": [
        {
          "output_type": "display_data",
          "data": {
            "text/plain": [
              "<Figure size 720x864 with 1 Axes>"
            ],
            "image/png": "[encoded data removed]"
          },
          "metadata": {
            "needs_background": "light"
          }
        }
      ]
    },
    {
      "cell_type": "markdown",
      "metadata": {
        "id": "xdHW32hcHgmN"
      },
      "source": [
        "# Assignments:\n",
        "\n",
        "1. Add another feature called  Preferential Attachment  with followers and followees data of vertex. you can check about Preferential Attachment in below link\n",
        "http://be.amazd.com/link-prediction/ <br>\n",
        "2. Add  feature called svd_dot. you can calculate svd_dot as Dot product between sourse node svd and destination node svd features.  you can read about this in below pdf \n",
        "https://storage.googleapis.com/kaggle-forum-message-attachments/2594/supervised_link_prediction.pdf<br>\n",
        "3. Tune hyperparameters for XG boost with all these features and check the error metric."
      ]
    },
    {
      "cell_type": "code",
      "source": [
        "if os.path.isfile('/content/drive/MyDrive/Colab Notebooks/Assignments/fea_sample/after_eda/train_pos_after_eda.csv'):\n",
        "    train_graph=nx.read_edgelist('/content/drive/MyDrive/Colab Notebooks/Assignments/fea_sample/after_eda/train_pos_after_eda.csv',delimiter=',',create_using=nx.DiGraph(),nodetype=int)\n",
        "    print(nx.info(train_graph))\n",
        "else:\n",
        "    print(\"please run the FB_EDA.ipynb or download the files from drive\")"
      ],
      "metadata": {
        "colab": {
          "base_uri": "https://localhost:8080/"
        },
        "id": "W9cUCmhUVYBt",
        "outputId": "391a4411-178f-41a1-e220-bec8b5535960"
      },
      "execution_count": null,
      "outputs": [
        {
          "output_type": "stream",
          "name": "stdout",
          "text": [
            "DiGraph with 1780722 nodes and 7550015 edges\n"
          ]
        }
      ]
    },
    {
      "cell_type": "code",
      "source": [
        "def compute_features_stage1(df_final):\n",
        "    #calculating no of followers followees for source and destination\n",
        "    #calculating intersection of followers and followees for source and destination\n",
        "    num_followers_s=[]\n",
        "    num_followees_s=[]\n",
        "    num_followers_d=[]\n",
        "    num_followees_d=[]\n",
        "    inter_followers=[]\n",
        "    inter_followees=[]\n",
        "    for i,row in df_final.iterrows():\n",
        "        try:\n",
        "            s1=set(train_graph.predecessors(row['source_node']))\n",
        "            s2=set(train_graph.successors(row['source_node']))\n",
        "        except:\n",
        "            s1 = set()\n",
        "            s2 = set()\n",
        "        try:\n",
        "            d1=set(train_graph.predecessors(row['destination_node']))\n",
        "            d2=set(train_graph.successors(row['destination_node']))\n",
        "        except:\n",
        "            d1 = set()\n",
        "            d2 = set()\n",
        "        num_followers_s.append(len(s1))\n",
        "        num_followees_s.append(len(s2))\n",
        "\n",
        "        num_followers_d.append(len(d1))\n",
        "        num_followees_d.append(len(d2))\n",
        "\n",
        "        inter_followers.append(len(s1.intersection(d1)))\n",
        "        inter_followees.append(len(s2.intersection(d2)))\n",
        "    return num_followers_d\n",
        "    #return  num_followers_s,num_followees_s,num_followers_d,num_followees_d,inter_followers,inter_followees"
      ],
      "metadata": {
        "id": "rD1rwfiZTknH"
      },
      "execution_count": null,
      "outputs": []
    },
    {
      "cell_type": "code",
      "source": [
        "df_final_train['num_followers_d'] = compute_features_stage1(df_final_train)\n",
        "    \n",
        "df_final_test['num_followers_d'] = compute_features_stage1(df_final_test)\n",
        "    "
      ],
      "metadata": {
        "id": "UO5z641pTtIt"
      },
      "execution_count": null,
      "outputs": []
    },
    {
      "cell_type": "code",
      "source": [
        "df_final_train.head(2)"
      ],
      "metadata": {
        "colab": {
          "base_uri": "https://localhost:8080/",
          "height": 240
        },
        "id": "H3XC5v55YeJd",
        "outputId": "39b504f8-a918-4892-972d-a79488652fbf"
      },
      "execution_count": null,
      "outputs": [
        {
          "output_type": "execute_result",
          "data": {
            "text/plain": [
              "   jaccard_followers  jaccard_followees  cosine_followers  cosine_followees  \\\n",
              "0                  0           0.000000          0.000000          0.000000   \n",
              "1                  0           0.187135          0.028382          0.343828   \n",
              "\n",
              "   num_followers_s  num_followees_s  num_followees_d  inter_followers  \\\n",
              "0                6               15                8                0   \n",
              "1               94               61              142               11   \n",
              "\n",
              "   inter_followees  adar_index  ...     svd_v_s_4     svd_v_s_5     svd_v_s_6  \\\n",
              "0                0    0.000000  ...  1.545075e-13  8.108434e-13  1.719702e-14   \n",
              "1               32   16.362912  ...  1.345726e-02  3.703479e-12  2.251737e-10   \n",
              "\n",
              "      svd_v_d_1     svd_v_d_2     svd_v_d_3     svd_v_d_4     svd_v_d_5  \\\n",
              "0 -1.355368e-12  4.675307e-13  1.128591e-06  6.616550e-14  9.771077e-13   \n",
              "1  1.245101e-12 -1.636948e-10 -3.112650e-10  6.738902e-02  2.607801e-11   \n",
              "\n",
              "      svd_v_d_6  num_followers_d  \n",
              "0  4.159752e-14                0  \n",
              "1  2.372904e-09                0  \n",
              "\n",
              "[2 rows x 52 columns]"
            ],
            "text/html": [
              "\n",
              "  <div id=\"df-adf06053-650f-40b6-8fa8-3bc99d683bd3\">\n",
              "    <div class=\"colab-df-container\">\n",
              "      <div>\n",
              "<style scoped>\n",
              "    .dataframe tbody tr th:only-of-type {\n",
              "        vertical-align: middle;\n",
              "    }\n",
              "\n",
              "    .dataframe tbody tr th {\n",
              "        vertical-align: top;\n",
              "    }\n",
              "\n",
              "    .dataframe thead th {\n",
              "        text-align: right;\n",
              "    }\n",
              "</style>\n",
              "<table border=\"1\" class=\"dataframe\">\n",
              "  <thead>\n",
              "    <tr style=\"text-align: right;\">\n",
              "      <th></th>\n",
              "      <th>jaccard_followers</th>\n",
              "      <th>jaccard_followees</th>\n",
              "      <th>cosine_followers</th>\n",
              "      <th>cosine_followees</th>\n",
              "      <th>num_followers_s</th>\n",
              "      <th>num_followees_s</th>\n",
              "      <th>num_followees_d</th>\n",
              "      <th>inter_followers</th>\n",
              "      <th>inter_followees</th>\n",
              "      <th>adar_index</th>\n",
              "      <th>...</th>\n",
              "      <th>svd_v_s_4</th>\n",
              "      <th>svd_v_s_5</th>\n",
              "      <th>svd_v_s_6</th>\n",
              "      <th>svd_v_d_1</th>\n",
              "      <th>svd_v_d_2</th>\n",
              "      <th>svd_v_d_3</th>\n",
              "      <th>svd_v_d_4</th>\n",
              "      <th>svd_v_d_5</th>\n",
              "      <th>svd_v_d_6</th>\n",
              "      <th>num_followers_d</th>\n",
              "    </tr>\n",
              "  </thead>\n",
              "  <tbody>\n",
              "    <tr>\n",
              "      <th>0</th>\n",
              "      <td>0</td>\n",
              "      <td>0.000000</td>\n",
              "      <td>0.000000</td>\n",
              "      <td>0.000000</td>\n",
              "      <td>6</td>\n",
              "      <td>15</td>\n",
              "      <td>8</td>\n",
              "      <td>0</td>\n",
              "      <td>0</td>\n",
              "      <td>0.000000</td>\n",
              "      <td>...</td>\n",
              "      <td>1.545075e-13</td>\n",
              "      <td>8.108434e-13</td>\n",
              "      <td>1.719702e-14</td>\n",
              "      <td>-1.355368e-12</td>\n",
              "      <td>4.675307e-13</td>\n",
              "      <td>1.128591e-06</td>\n",
              "      <td>6.616550e-14</td>\n",
              "      <td>9.771077e-13</td>\n",
              "      <td>4.159752e-14</td>\n",
              "      <td>0</td>\n",
              "    </tr>\n",
              "    <tr>\n",
              "      <th>1</th>\n",
              "      <td>0</td>\n",
              "      <td>0.187135</td>\n",
              "      <td>0.028382</td>\n",
              "      <td>0.343828</td>\n",
              "      <td>94</td>\n",
              "      <td>61</td>\n",
              "      <td>142</td>\n",
              "      <td>11</td>\n",
              "      <td>32</td>\n",
              "      <td>16.362912</td>\n",
              "      <td>...</td>\n",
              "      <td>1.345726e-02</td>\n",
              "      <td>3.703479e-12</td>\n",
              "      <td>2.251737e-10</td>\n",
              "      <td>1.245101e-12</td>\n",
              "      <td>-1.636948e-10</td>\n",
              "      <td>-3.112650e-10</td>\n",
              "      <td>6.738902e-02</td>\n",
              "      <td>2.607801e-11</td>\n",
              "      <td>2.372904e-09</td>\n",
              "      <td>0</td>\n",
              "    </tr>\n",
              "  </tbody>\n",
              "</table>\n",
              "<p>2 rows × 52 columns</p>\n",
              "</div>\n",
              "      <button class=\"colab-df-convert\" onclick=\"convertToInteractive('df-adf06053-650f-40b6-8fa8-3bc99d683bd3')\"\n",
              "              title=\"Convert this dataframe to an interactive table.\"\n",
              "              style=\"display:none;\">\n",
              "        \n",
              "  <svg xmlns=\"http://www.w3.org/2000/svg\" height=\"24px\"viewBox=\"0 0 24 24\"\n",
              "       width=\"24px\">\n",
              "    <path d=\"M0 0h24v24H0V0z\" fill=\"none\"/>\n",
              "    <path d=\"M18.56 5.44l.94 2.06.94-2.06 2.06-.94-2.06-.94-.94-2.06-.94 2.06-2.06.94zm-11 1L8.5 8.5l.94-2.06 2.06-.94-2.06-.94L8.5 2.5l-.94 2.06-2.06.94zm10 10l.94 2.06.94-2.06 2.06-.94-2.06-.94-.94-2.06-.94 2.06-2.06.94z\"/><path d=\"M17.41 7.96l-1.37-1.37c-.4-.4-.92-.59-1.43-.59-.52 0-1.04.2-1.43.59L10.3 9.45l-7.72 7.72c-.78.78-.78 2.05 0 2.83L4 21.41c.39.39.9.59 1.41.59.51 0 1.02-.2 1.41-.59l7.78-7.78 2.81-2.81c.8-.78.8-2.07 0-2.86zM5.41 20L4 18.59l7.72-7.72 1.47 1.35L5.41 20z\"/>\n",
              "  </svg>\n",
              "      </button>\n",
              "      \n",
              "  <style>\n",
              "    .colab-df-container {\n",
              "      display:flex;\n",
              "      flex-wrap:wrap;\n",
              "      gap: 12px;\n",
              "    }\n",
              "\n",
              "    .colab-df-convert {\n",
              "      background-color: #E8F0FE;\n",
              "      border: none;\n",
              "      border-radius: 50%;\n",
              "      cursor: pointer;\n",
              "      display: none;\n",
              "      fill: #1967D2;\n",
              "      height: 32px;\n",
              "      padding: 0 0 0 0;\n",
              "      width: 32px;\n",
              "    }\n",
              "\n",
              "    .colab-df-convert:hover {\n",
              "      background-color: #E2EBFA;\n",
              "      box-shadow: 0px 1px 2px rgba(60, 64, 67, 0.3), 0px 1px 3px 1px rgba(60, 64, 67, 0.15);\n",
              "      fill: #174EA6;\n",
              "    }\n",
              "\n",
              "    [theme=dark] .colab-df-convert {\n",
              "      background-color: #3B4455;\n",
              "      fill: #D2E3FC;\n",
              "    }\n",
              "\n",
              "    [theme=dark] .colab-df-convert:hover {\n",
              "      background-color: #434B5C;\n",
              "      box-shadow: 0px 1px 3px 1px rgba(0, 0, 0, 0.15);\n",
              "      filter: drop-shadow(0px 1px 2px rgba(0, 0, 0, 0.3));\n",
              "      fill: #FFFFFF;\n",
              "    }\n",
              "  </style>\n",
              "\n",
              "      <script>\n",
              "        const buttonEl =\n",
              "          document.querySelector('#df-adf06053-650f-40b6-8fa8-3bc99d683bd3 button.colab-df-convert');\n",
              "        buttonEl.style.display =\n",
              "          google.colab.kernel.accessAllowed ? 'block' : 'none';\n",
              "\n",
              "        async function convertToInteractive(key) {\n",
              "          const element = document.querySelector('#df-adf06053-650f-40b6-8fa8-3bc99d683bd3');\n",
              "          const dataTable =\n",
              "            await google.colab.kernel.invokeFunction('convertToInteractive',\n",
              "                                                     [key], {});\n",
              "          if (!dataTable) return;\n",
              "\n",
              "          const docLinkHtml = 'Like what you see? Visit the ' +\n",
              "            '<a target=\"_blank\" href=https://colab.research.google.com/notebooks/data_table.ipynb>data table notebook</a>'\n",
              "            + ' to learn more about interactive tables.';\n",
              "          element.innerHTML = '';\n",
              "          dataTable['output_type'] = 'display_data';\n",
              "          await google.colab.output.renderOutput(dataTable, element);\n",
              "          const docLink = document.createElement('div');\n",
              "          docLink.innerHTML = docLinkHtml;\n",
              "          element.appendChild(docLink);\n",
              "        }\n",
              "      </script>\n",
              "    </div>\n",
              "  </div>\n",
              "  "
            ]
          },
          "metadata": {},
          "execution_count": 12
        }
      ]
    },
    {
      "cell_type": "code",
      "source": [
        "def Preferential_Attachment(a, b):\n",
        "\n",
        "  try:\n",
        "\n",
        "    if len(set(train_graph.successors(a))) == 0 | len(set(train_graph.successors(b))) == 0:\n",
        "\n",
        "      return 0\n",
        "\n",
        "    pref_score = len(set(train_graph.successors(a)))*len(set(train_graph.successors(b)))\n",
        "\n",
        "    return pref_score\n",
        "\n",
        "  except:\n",
        "\n",
        "    return 0"
      ],
      "metadata": {
        "id": "U2XSf4OqHkT9"
      },
      "execution_count": null,
      "outputs": []
    },
    {
      "cell_type": "code",
      "source": [
        "#Adding Preferential Attachments for followers train data [s[i]*d[i]]\n",
        "\n",
        "s = np.array(df_final_train[\"num_followers_s\"])\n",
        "d = np.array(df_final_train[\"num_followers_d\"])\n",
        "\n",
        "df_final_train[\"followers_preferential\"] = Preferential_Attachment(s,d)"
      ],
      "metadata": {
        "id": "pjg3uHm0nQDp"
      },
      "execution_count": null,
      "outputs": []
    },
    {
      "cell_type": "code",
      "source": [
        "df_final_train.head()"
      ],
      "metadata": {
        "id": "q4xke-iwq09x",
        "colab": {
          "base_uri": "https://localhost:8080/",
          "height": 386
        },
        "outputId": "d4688bab-7c4a-4c8d-bbe6-9a669db1ab7f"
      },
      "execution_count": null,
      "outputs": [
        {
          "output_type": "execute_result",
          "data": {
            "text/plain": [
              "   jaccard_followers  jaccard_followees  cosine_followers  cosine_followees  \\\n",
              "0                  0           0.000000          0.000000          0.000000   \n",
              "1                  0           0.187135          0.028382          0.343828   \n",
              "2                  0           0.369565          0.156957          0.566038   \n",
              "3                  0           0.000000          0.000000          0.000000   \n",
              "4                  0           0.000000          0.000000          0.000000   \n",
              "\n",
              "   num_followers_s  num_followees_s  num_followees_d  inter_followers  \\\n",
              "0                6               15                8                0   \n",
              "1               94               61              142               11   \n",
              "2               28               41               22               26   \n",
              "3               11                5                7                0   \n",
              "4                1               11                3                0   \n",
              "\n",
              "   inter_followees  adar_index  ...     svd_v_s_5     svd_v_s_6     svd_v_d_1  \\\n",
              "0                0    0.000000  ...  8.108434e-13  1.719702e-14 -1.355368e-12   \n",
              "1               32   16.362912  ...  3.703479e-12  2.251737e-10  1.245101e-12   \n",
              "2               17   10.991826  ...  1.940403e-19 -3.365389e-19 -1.238370e-18   \n",
              "3                0    0.000000  ...  1.513483e-12  4.498061e-13 -9.818087e-10   \n",
              "4                0    0.000000  ...  3.360247e-13  1.407670e-14  0.000000e+00   \n",
              "\n",
              "      svd_v_d_2     svd_v_d_3     svd_v_d_4     svd_v_d_5     svd_v_d_6  \\\n",
              "0  4.675307e-13  1.128591e-06  6.616550e-14  9.771077e-13  4.159752e-14   \n",
              "1 -1.636948e-10 -3.112650e-10  6.738902e-02  2.607801e-11  2.372904e-09   \n",
              "2  1.438175e-19 -1.852863e-19 -5.901864e-19  1.629341e-19 -2.572452e-19   \n",
              "3  3.454672e-11  5.213635e-08  9.595823e-13  3.047045e-10  1.246592e-13   \n",
              "4  0.000000e+00  0.000000e+00  0.000000e+00  0.000000e+00  0.000000e+00   \n",
              "\n",
              "   num_followers_d  followers_preferential  \n",
              "0                0                       0  \n",
              "1                0                       0  \n",
              "2                0                       0  \n",
              "3                0                       0  \n",
              "4                0                       0  \n",
              "\n",
              "[5 rows x 53 columns]"
            ],
            "text/html": [
              "\n",
              "  <div id=\"df-57950cb9-cbf8-4e21-a3f9-200491ccf974\">\n",
              "    <div class=\"colab-df-container\">\n",
              "      <div>\n",
              "<style scoped>\n",
              "    .dataframe tbody tr th:only-of-type {\n",
              "        vertical-align: middle;\n",
              "    }\n",
              "\n",
              "    .dataframe tbody tr th {\n",
              "        vertical-align: top;\n",
              "    }\n",
              "\n",
              "    .dataframe thead th {\n",
              "        text-align: right;\n",
              "    }\n",
              "</style>\n",
              "<table border=\"1\" class=\"dataframe\">\n",
              "  <thead>\n",
              "    <tr style=\"text-align: right;\">\n",
              "      <th></th>\n",
              "      <th>jaccard_followers</th>\n",
              "      <th>jaccard_followees</th>\n",
              "      <th>cosine_followers</th>\n",
              "      <th>cosine_followees</th>\n",
              "      <th>num_followers_s</th>\n",
              "      <th>num_followees_s</th>\n",
              "      <th>num_followees_d</th>\n",
              "      <th>inter_followers</th>\n",
              "      <th>inter_followees</th>\n",
              "      <th>adar_index</th>\n",
              "      <th>...</th>\n",
              "      <th>svd_v_s_5</th>\n",
              "      <th>svd_v_s_6</th>\n",
              "      <th>svd_v_d_1</th>\n",
              "      <th>svd_v_d_2</th>\n",
              "      <th>svd_v_d_3</th>\n",
              "      <th>svd_v_d_4</th>\n",
              "      <th>svd_v_d_5</th>\n",
              "      <th>svd_v_d_6</th>\n",
              "      <th>num_followers_d</th>\n",
              "      <th>followers_preferential</th>\n",
              "    </tr>\n",
              "  </thead>\n",
              "  <tbody>\n",
              "    <tr>\n",
              "      <th>0</th>\n",
              "      <td>0</td>\n",
              "      <td>0.000000</td>\n",
              "      <td>0.000000</td>\n",
              "      <td>0.000000</td>\n",
              "      <td>6</td>\n",
              "      <td>15</td>\n",
              "      <td>8</td>\n",
              "      <td>0</td>\n",
              "      <td>0</td>\n",
              "      <td>0.000000</td>\n",
              "      <td>...</td>\n",
              "      <td>8.108434e-13</td>\n",
              "      <td>1.719702e-14</td>\n",
              "      <td>-1.355368e-12</td>\n",
              "      <td>4.675307e-13</td>\n",
              "      <td>1.128591e-06</td>\n",
              "      <td>6.616550e-14</td>\n",
              "      <td>9.771077e-13</td>\n",
              "      <td>4.159752e-14</td>\n",
              "      <td>0</td>\n",
              "      <td>0</td>\n",
              "    </tr>\n",
              "    <tr>\n",
              "      <th>1</th>\n",
              "      <td>0</td>\n",
              "      <td>0.187135</td>\n",
              "      <td>0.028382</td>\n",
              "      <td>0.343828</td>\n",
              "      <td>94</td>\n",
              "      <td>61</td>\n",
              "      <td>142</td>\n",
              "      <td>11</td>\n",
              "      <td>32</td>\n",
              "      <td>16.362912</td>\n",
              "      <td>...</td>\n",
              "      <td>3.703479e-12</td>\n",
              "      <td>2.251737e-10</td>\n",
              "      <td>1.245101e-12</td>\n",
              "      <td>-1.636948e-10</td>\n",
              "      <td>-3.112650e-10</td>\n",
              "      <td>6.738902e-02</td>\n",
              "      <td>2.607801e-11</td>\n",
              "      <td>2.372904e-09</td>\n",
              "      <td>0</td>\n",
              "      <td>0</td>\n",
              "    </tr>\n",
              "    <tr>\n",
              "      <th>2</th>\n",
              "      <td>0</td>\n",
              "      <td>0.369565</td>\n",
              "      <td>0.156957</td>\n",
              "      <td>0.566038</td>\n",
              "      <td>28</td>\n",
              "      <td>41</td>\n",
              "      <td>22</td>\n",
              "      <td>26</td>\n",
              "      <td>17</td>\n",
              "      <td>10.991826</td>\n",
              "      <td>...</td>\n",
              "      <td>1.940403e-19</td>\n",
              "      <td>-3.365389e-19</td>\n",
              "      <td>-1.238370e-18</td>\n",
              "      <td>1.438175e-19</td>\n",
              "      <td>-1.852863e-19</td>\n",
              "      <td>-5.901864e-19</td>\n",
              "      <td>1.629341e-19</td>\n",
              "      <td>-2.572452e-19</td>\n",
              "      <td>0</td>\n",
              "      <td>0</td>\n",
              "    </tr>\n",
              "    <tr>\n",
              "      <th>3</th>\n",
              "      <td>0</td>\n",
              "      <td>0.000000</td>\n",
              "      <td>0.000000</td>\n",
              "      <td>0.000000</td>\n",
              "      <td>11</td>\n",
              "      <td>5</td>\n",
              "      <td>7</td>\n",
              "      <td>0</td>\n",
              "      <td>0</td>\n",
              "      <td>0.000000</td>\n",
              "      <td>...</td>\n",
              "      <td>1.513483e-12</td>\n",
              "      <td>4.498061e-13</td>\n",
              "      <td>-9.818087e-10</td>\n",
              "      <td>3.454672e-11</td>\n",
              "      <td>5.213635e-08</td>\n",
              "      <td>9.595823e-13</td>\n",
              "      <td>3.047045e-10</td>\n",
              "      <td>1.246592e-13</td>\n",
              "      <td>0</td>\n",
              "      <td>0</td>\n",
              "    </tr>\n",
              "    <tr>\n",
              "      <th>4</th>\n",
              "      <td>0</td>\n",
              "      <td>0.000000</td>\n",
              "      <td>0.000000</td>\n",
              "      <td>0.000000</td>\n",
              "      <td>1</td>\n",
              "      <td>11</td>\n",
              "      <td>3</td>\n",
              "      <td>0</td>\n",
              "      <td>0</td>\n",
              "      <td>0.000000</td>\n",
              "      <td>...</td>\n",
              "      <td>3.360247e-13</td>\n",
              "      <td>1.407670e-14</td>\n",
              "      <td>0.000000e+00</td>\n",
              "      <td>0.000000e+00</td>\n",
              "      <td>0.000000e+00</td>\n",
              "      <td>0.000000e+00</td>\n",
              "      <td>0.000000e+00</td>\n",
              "      <td>0.000000e+00</td>\n",
              "      <td>0</td>\n",
              "      <td>0</td>\n",
              "    </tr>\n",
              "  </tbody>\n",
              "</table>\n",
              "<p>5 rows × 53 columns</p>\n",
              "</div>\n",
              "      <button class=\"colab-df-convert\" onclick=\"convertToInteractive('df-57950cb9-cbf8-4e21-a3f9-200491ccf974')\"\n",
              "              title=\"Convert this dataframe to an interactive table.\"\n",
              "              style=\"display:none;\">\n",
              "        \n",
              "  <svg xmlns=\"http://www.w3.org/2000/svg\" height=\"24px\"viewBox=\"0 0 24 24\"\n",
              "       width=\"24px\">\n",
              "    <path d=\"M0 0h24v24H0V0z\" fill=\"none\"/>\n",
              "    <path d=\"M18.56 5.44l.94 2.06.94-2.06 2.06-.94-2.06-.94-.94-2.06-.94 2.06-2.06.94zm-11 1L8.5 8.5l.94-2.06 2.06-.94-2.06-.94L8.5 2.5l-.94 2.06-2.06.94zm10 10l.94 2.06.94-2.06 2.06-.94-2.06-.94-.94-2.06-.94 2.06-2.06.94z\"/><path d=\"M17.41 7.96l-1.37-1.37c-.4-.4-.92-.59-1.43-.59-.52 0-1.04.2-1.43.59L10.3 9.45l-7.72 7.72c-.78.78-.78 2.05 0 2.83L4 21.41c.39.39.9.59 1.41.59.51 0 1.02-.2 1.41-.59l7.78-7.78 2.81-2.81c.8-.78.8-2.07 0-2.86zM5.41 20L4 18.59l7.72-7.72 1.47 1.35L5.41 20z\"/>\n",
              "  </svg>\n",
              "      </button>\n",
              "      \n",
              "  <style>\n",
              "    .colab-df-container {\n",
              "      display:flex;\n",
              "      flex-wrap:wrap;\n",
              "      gap: 12px;\n",
              "    }\n",
              "\n",
              "    .colab-df-convert {\n",
              "      background-color: #E8F0FE;\n",
              "      border: none;\n",
              "      border-radius: 50%;\n",
              "      cursor: pointer;\n",
              "      display: none;\n",
              "      fill: #1967D2;\n",
              "      height: 32px;\n",
              "      padding: 0 0 0 0;\n",
              "      width: 32px;\n",
              "    }\n",
              "\n",
              "    .colab-df-convert:hover {\n",
              "      background-color: #E2EBFA;\n",
              "      box-shadow: 0px 1px 2px rgba(60, 64, 67, 0.3), 0px 1px 3px 1px rgba(60, 64, 67, 0.15);\n",
              "      fill: #174EA6;\n",
              "    }\n",
              "\n",
              "    [theme=dark] .colab-df-convert {\n",
              "      background-color: #3B4455;\n",
              "      fill: #D2E3FC;\n",
              "    }\n",
              "\n",
              "    [theme=dark] .colab-df-convert:hover {\n",
              "      background-color: #434B5C;\n",
              "      box-shadow: 0px 1px 3px 1px rgba(0, 0, 0, 0.15);\n",
              "      filter: drop-shadow(0px 1px 2px rgba(0, 0, 0, 0.3));\n",
              "      fill: #FFFFFF;\n",
              "    }\n",
              "  </style>\n",
              "\n",
              "      <script>\n",
              "        const buttonEl =\n",
              "          document.querySelector('#df-57950cb9-cbf8-4e21-a3f9-200491ccf974 button.colab-df-convert');\n",
              "        buttonEl.style.display =\n",
              "          google.colab.kernel.accessAllowed ? 'block' : 'none';\n",
              "\n",
              "        async function convertToInteractive(key) {\n",
              "          const element = document.querySelector('#df-57950cb9-cbf8-4e21-a3f9-200491ccf974');\n",
              "          const dataTable =\n",
              "            await google.colab.kernel.invokeFunction('convertToInteractive',\n",
              "                                                     [key], {});\n",
              "          if (!dataTable) return;\n",
              "\n",
              "          const docLinkHtml = 'Like what you see? Visit the ' +\n",
              "            '<a target=\"_blank\" href=https://colab.research.google.com/notebooks/data_table.ipynb>data table notebook</a>'\n",
              "            + ' to learn more about interactive tables.';\n",
              "          element.innerHTML = '';\n",
              "          dataTable['output_type'] = 'display_data';\n",
              "          await google.colab.output.renderOutput(dataTable, element);\n",
              "          const docLink = document.createElement('div');\n",
              "          docLink.innerHTML = docLinkHtml;\n",
              "          element.appendChild(docLink);\n",
              "        }\n",
              "      </script>\n",
              "    </div>\n",
              "  </div>\n",
              "  "
            ]
          },
          "metadata": {},
          "execution_count": 15
        }
      ]
    },
    {
      "cell_type": "code",
      "source": [
        "#Adding Preferential Attachments for followers train data [s[i]*d[i]]\n",
        "\n",
        "s = np.array(df_final_train[\"num_followees_s\"])\n",
        "d = np.array(df_final_train[\"num_followees_d\"])\n",
        "\n",
        "df_final_train[\"followees_preferential\"] = Preferential_Attachment(s,d)\n",
        "\n"
      ],
      "metadata": {
        "id": "Oy0PZ_P0arTc"
      },
      "execution_count": null,
      "outputs": []
    },
    {
      "cell_type": "code",
      "source": [
        "#for followers test data\n",
        "\n",
        "s = np.array(df_final_test[\"num_followers_s\"])\n",
        "d = np.array(df_final_test[\"num_followers_d\"])\n",
        "\n",
        "df_final_test[\"followers_preferential\"] = Preferential_Attachment(s,d)"
      ],
      "metadata": {
        "id": "6b0hcVdK2KN8"
      },
      "execution_count": null,
      "outputs": []
    },
    {
      "cell_type": "code",
      "source": [
        "#for followees test data\n",
        "\n",
        "s = np.array(df_final_test[\"num_followees_s\"])\n",
        "d = np.array(df_final_test[\"num_followees_d\"])\n",
        "\n",
        "df_final_test[\"followees_preferential\"] = Preferential_Attachment(s,d)\n",
        "\n",
        "\n"
      ],
      "metadata": {
        "id": "tB_gywdpVpjp"
      },
      "execution_count": null,
      "outputs": []
    },
    {
      "cell_type": "code",
      "source": [
        "df_final_test.head()"
      ],
      "metadata": {
        "colab": {
          "base_uri": "https://localhost:8080/",
          "height": 386
        },
        "id": "zxGJM_kYYp_S",
        "outputId": "4ad8511e-6e93-4a03-9f58-f16415a3d4d2"
      },
      "execution_count": null,
      "outputs": [
        {
          "output_type": "execute_result",
          "data": {
            "text/plain": [
              "   jaccard_followers  jaccard_followees  cosine_followers  cosine_followees  \\\n",
              "0                  0                0.0          0.029161          0.000000   \n",
              "1                  0                0.0          0.000000          0.000000   \n",
              "2                  0                0.0          0.000000          0.000000   \n",
              "3                  0                0.0          0.000000          0.000000   \n",
              "4                  0                0.2          0.042767          0.347833   \n",
              "\n",
              "   num_followers_s  num_followees_s  num_followees_d  inter_followers  \\\n",
              "0               14                6                9                1   \n",
              "1               17                1               19                0   \n",
              "2               10               16                9                0   \n",
              "3               37               10               34                0   \n",
              "4               27               15               27                4   \n",
              "\n",
              "   inter_followees  adar_index  ...     svd_v_s_6     svd_v_d_1     svd_v_d_2  \\\n",
              "0                0    0.000000  ...  5.535503e-14 -9.994076e-10  5.791910e-10   \n",
              "1                0    0.000000  ...  4.701436e-15 -9.360516e-12  3.206809e-10   \n",
              "2                0    0.000000  ...  4.199834e-14 -4.253075e-13  4.789463e-13   \n",
              "3                0    0.000000  ...  2.817657e-13 -2.162590e-11  6.939194e-12   \n",
              "4                7    6.136433  ...  9.656662e-14 -8.742904e-12  7.467370e-12   \n",
              "\n",
              "      svd_v_d_3     svd_v_d_4     svd_v_d_5     svd_v_d_6  num_followers_d  \\\n",
              "0  3.512364e-07  2.486658e-09  2.771146e-09  1.727694e-12                0   \n",
              "1  4.668696e-08  6.665777e-12  1.495979e-10  9.836670e-14                0   \n",
              "2  3.479824e-07  1.630549e-13  3.954708e-13  3.875785e-14                0   \n",
              "3  1.879861e-05  4.384816e-12  1.239414e-11  6.483485e-13                0   \n",
              "4  1.256880e-05  3.636983e-12  3.948463e-12  2.415863e-13                0   \n",
              "\n",
              "   followers_preferential  followees_preferential  \n",
              "0                       0                       0  \n",
              "1                       0                       0  \n",
              "2                       0                       0  \n",
              "3                       0                       0  \n",
              "4                       0                       0  \n",
              "\n",
              "[5 rows x 54 columns]"
            ],
            "text/html": [
              "\n",
              "  <div id=\"df-0710dcb7-c38b-49b9-919b-529f63db76dc\">\n",
              "    <div class=\"colab-df-container\">\n",
              "      <div>\n",
              "<style scoped>\n",
              "    .dataframe tbody tr th:only-of-type {\n",
              "        vertical-align: middle;\n",
              "    }\n",
              "\n",
              "    .dataframe tbody tr th {\n",
              "        vertical-align: top;\n",
              "    }\n",
              "\n",
              "    .dataframe thead th {\n",
              "        text-align: right;\n",
              "    }\n",
              "</style>\n",
              "<table border=\"1\" class=\"dataframe\">\n",
              "  <thead>\n",
              "    <tr style=\"text-align: right;\">\n",
              "      <th></th>\n",
              "      <th>jaccard_followers</th>\n",
              "      <th>jaccard_followees</th>\n",
              "      <th>cosine_followers</th>\n",
              "      <th>cosine_followees</th>\n",
              "      <th>num_followers_s</th>\n",
              "      <th>num_followees_s</th>\n",
              "      <th>num_followees_d</th>\n",
              "      <th>inter_followers</th>\n",
              "      <th>inter_followees</th>\n",
              "      <th>adar_index</th>\n",
              "      <th>...</th>\n",
              "      <th>svd_v_s_6</th>\n",
              "      <th>svd_v_d_1</th>\n",
              "      <th>svd_v_d_2</th>\n",
              "      <th>svd_v_d_3</th>\n",
              "      <th>svd_v_d_4</th>\n",
              "      <th>svd_v_d_5</th>\n",
              "      <th>svd_v_d_6</th>\n",
              "      <th>num_followers_d</th>\n",
              "      <th>followers_preferential</th>\n",
              "      <th>followees_preferential</th>\n",
              "    </tr>\n",
              "  </thead>\n",
              "  <tbody>\n",
              "    <tr>\n",
              "      <th>0</th>\n",
              "      <td>0</td>\n",
              "      <td>0.0</td>\n",
              "      <td>0.029161</td>\n",
              "      <td>0.000000</td>\n",
              "      <td>14</td>\n",
              "      <td>6</td>\n",
              "      <td>9</td>\n",
              "      <td>1</td>\n",
              "      <td>0</td>\n",
              "      <td>0.000000</td>\n",
              "      <td>...</td>\n",
              "      <td>5.535503e-14</td>\n",
              "      <td>-9.994076e-10</td>\n",
              "      <td>5.791910e-10</td>\n",
              "      <td>3.512364e-07</td>\n",
              "      <td>2.486658e-09</td>\n",
              "      <td>2.771146e-09</td>\n",
              "      <td>1.727694e-12</td>\n",
              "      <td>0</td>\n",
              "      <td>0</td>\n",
              "      <td>0</td>\n",
              "    </tr>\n",
              "    <tr>\n",
              "      <th>1</th>\n",
              "      <td>0</td>\n",
              "      <td>0.0</td>\n",
              "      <td>0.000000</td>\n",
              "      <td>0.000000</td>\n",
              "      <td>17</td>\n",
              "      <td>1</td>\n",
              "      <td>19</td>\n",
              "      <td>0</td>\n",
              "      <td>0</td>\n",
              "      <td>0.000000</td>\n",
              "      <td>...</td>\n",
              "      <td>4.701436e-15</td>\n",
              "      <td>-9.360516e-12</td>\n",
              "      <td>3.206809e-10</td>\n",
              "      <td>4.668696e-08</td>\n",
              "      <td>6.665777e-12</td>\n",
              "      <td>1.495979e-10</td>\n",
              "      <td>9.836670e-14</td>\n",
              "      <td>0</td>\n",
              "      <td>0</td>\n",
              "      <td>0</td>\n",
              "    </tr>\n",
              "    <tr>\n",
              "      <th>2</th>\n",
              "      <td>0</td>\n",
              "      <td>0.0</td>\n",
              "      <td>0.000000</td>\n",
              "      <td>0.000000</td>\n",
              "      <td>10</td>\n",
              "      <td>16</td>\n",
              "      <td>9</td>\n",
              "      <td>0</td>\n",
              "      <td>0</td>\n",
              "      <td>0.000000</td>\n",
              "      <td>...</td>\n",
              "      <td>4.199834e-14</td>\n",
              "      <td>-4.253075e-13</td>\n",
              "      <td>4.789463e-13</td>\n",
              "      <td>3.479824e-07</td>\n",
              "      <td>1.630549e-13</td>\n",
              "      <td>3.954708e-13</td>\n",
              "      <td>3.875785e-14</td>\n",
              "      <td>0</td>\n",
              "      <td>0</td>\n",
              "      <td>0</td>\n",
              "    </tr>\n",
              "    <tr>\n",
              "      <th>3</th>\n",
              "      <td>0</td>\n",
              "      <td>0.0</td>\n",
              "      <td>0.000000</td>\n",
              "      <td>0.000000</td>\n",
              "      <td>37</td>\n",
              "      <td>10</td>\n",
              "      <td>34</td>\n",
              "      <td>0</td>\n",
              "      <td>0</td>\n",
              "      <td>0.000000</td>\n",
              "      <td>...</td>\n",
              "      <td>2.817657e-13</td>\n",
              "      <td>-2.162590e-11</td>\n",
              "      <td>6.939194e-12</td>\n",
              "      <td>1.879861e-05</td>\n",
              "      <td>4.384816e-12</td>\n",
              "      <td>1.239414e-11</td>\n",
              "      <td>6.483485e-13</td>\n",
              "      <td>0</td>\n",
              "      <td>0</td>\n",
              "      <td>0</td>\n",
              "    </tr>\n",
              "    <tr>\n",
              "      <th>4</th>\n",
              "      <td>0</td>\n",
              "      <td>0.2</td>\n",
              "      <td>0.042767</td>\n",
              "      <td>0.347833</td>\n",
              "      <td>27</td>\n",
              "      <td>15</td>\n",
              "      <td>27</td>\n",
              "      <td>4</td>\n",
              "      <td>7</td>\n",
              "      <td>6.136433</td>\n",
              "      <td>...</td>\n",
              "      <td>9.656662e-14</td>\n",
              "      <td>-8.742904e-12</td>\n",
              "      <td>7.467370e-12</td>\n",
              "      <td>1.256880e-05</td>\n",
              "      <td>3.636983e-12</td>\n",
              "      <td>3.948463e-12</td>\n",
              "      <td>2.415863e-13</td>\n",
              "      <td>0</td>\n",
              "      <td>0</td>\n",
              "      <td>0</td>\n",
              "    </tr>\n",
              "  </tbody>\n",
              "</table>\n",
              "<p>5 rows × 54 columns</p>\n",
              "</div>\n",
              "      <button class=\"colab-df-convert\" onclick=\"convertToInteractive('df-0710dcb7-c38b-49b9-919b-529f63db76dc')\"\n",
              "              title=\"Convert this dataframe to an interactive table.\"\n",
              "              style=\"display:none;\">\n",
              "        \n",
              "  <svg xmlns=\"http://www.w3.org/2000/svg\" height=\"24px\"viewBox=\"0 0 24 24\"\n",
              "       width=\"24px\">\n",
              "    <path d=\"M0 0h24v24H0V0z\" fill=\"none\"/>\n",
              "    <path d=\"M18.56 5.44l.94 2.06.94-2.06 2.06-.94-2.06-.94-.94-2.06-.94 2.06-2.06.94zm-11 1L8.5 8.5l.94-2.06 2.06-.94-2.06-.94L8.5 2.5l-.94 2.06-2.06.94zm10 10l.94 2.06.94-2.06 2.06-.94-2.06-.94-.94-2.06-.94 2.06-2.06.94z\"/><path d=\"M17.41 7.96l-1.37-1.37c-.4-.4-.92-.59-1.43-.59-.52 0-1.04.2-1.43.59L10.3 9.45l-7.72 7.72c-.78.78-.78 2.05 0 2.83L4 21.41c.39.39.9.59 1.41.59.51 0 1.02-.2 1.41-.59l7.78-7.78 2.81-2.81c.8-.78.8-2.07 0-2.86zM5.41 20L4 18.59l7.72-7.72 1.47 1.35L5.41 20z\"/>\n",
              "  </svg>\n",
              "      </button>\n",
              "      \n",
              "  <style>\n",
              "    .colab-df-container {\n",
              "      display:flex;\n",
              "      flex-wrap:wrap;\n",
              "      gap: 12px;\n",
              "    }\n",
              "\n",
              "    .colab-df-convert {\n",
              "      background-color: #E8F0FE;\n",
              "      border: none;\n",
              "      border-radius: 50%;\n",
              "      cursor: pointer;\n",
              "      display: none;\n",
              "      fill: #1967D2;\n",
              "      height: 32px;\n",
              "      padding: 0 0 0 0;\n",
              "      width: 32px;\n",
              "    }\n",
              "\n",
              "    .colab-df-convert:hover {\n",
              "      background-color: #E2EBFA;\n",
              "      box-shadow: 0px 1px 2px rgba(60, 64, 67, 0.3), 0px 1px 3px 1px rgba(60, 64, 67, 0.15);\n",
              "      fill: #174EA6;\n",
              "    }\n",
              "\n",
              "    [theme=dark] .colab-df-convert {\n",
              "      background-color: #3B4455;\n",
              "      fill: #D2E3FC;\n",
              "    }\n",
              "\n",
              "    [theme=dark] .colab-df-convert:hover {\n",
              "      background-color: #434B5C;\n",
              "      box-shadow: 0px 1px 3px 1px rgba(0, 0, 0, 0.15);\n",
              "      filter: drop-shadow(0px 1px 2px rgba(0, 0, 0, 0.3));\n",
              "      fill: #FFFFFF;\n",
              "    }\n",
              "  </style>\n",
              "\n",
              "      <script>\n",
              "        const buttonEl =\n",
              "          document.querySelector('#df-0710dcb7-c38b-49b9-919b-529f63db76dc button.colab-df-convert');\n",
              "        buttonEl.style.display =\n",
              "          google.colab.kernel.accessAllowed ? 'block' : 'none';\n",
              "\n",
              "        async function convertToInteractive(key) {\n",
              "          const element = document.querySelector('#df-0710dcb7-c38b-49b9-919b-529f63db76dc');\n",
              "          const dataTable =\n",
              "            await google.colab.kernel.invokeFunction('convertToInteractive',\n",
              "                                                     [key], {});\n",
              "          if (!dataTable) return;\n",
              "\n",
              "          const docLinkHtml = 'Like what you see? Visit the ' +\n",
              "            '<a target=\"_blank\" href=https://colab.research.google.com/notebooks/data_table.ipynb>data table notebook</a>'\n",
              "            + ' to learn more about interactive tables.';\n",
              "          element.innerHTML = '';\n",
              "          dataTable['output_type'] = 'display_data';\n",
              "          await google.colab.output.renderOutput(dataTable, element);\n",
              "          const docLink = document.createElement('div');\n",
              "          docLink.innerHTML = docLinkHtml;\n",
              "          element.appendChild(docLink);\n",
              "        }\n",
              "      </script>\n",
              "    </div>\n",
              "  </div>\n",
              "  "
            ]
          },
          "metadata": {},
          "execution_count": 19
        }
      ]
    },
    {
      "cell_type": "code",
      "source": [
        "df_final_train.head()"
      ],
      "metadata": {
        "colab": {
          "base_uri": "https://localhost:8080/",
          "height": 386
        },
        "id": "sBKiJTMyaLqg",
        "outputId": "52713c91-7d39-4b0f-8876-7b72175d3c92"
      },
      "execution_count": null,
      "outputs": [
        {
          "output_type": "execute_result",
          "data": {
            "text/plain": [
              "   jaccard_followers  jaccard_followees  cosine_followers  cosine_followees  \\\n",
              "0                  0           0.000000          0.000000          0.000000   \n",
              "1                  0           0.187135          0.028382          0.343828   \n",
              "2                  0           0.369565          0.156957          0.566038   \n",
              "3                  0           0.000000          0.000000          0.000000   \n",
              "4                  0           0.000000          0.000000          0.000000   \n",
              "\n",
              "   num_followers_s  num_followees_s  num_followees_d  inter_followers  \\\n",
              "0                6               15                8                0   \n",
              "1               94               61              142               11   \n",
              "2               28               41               22               26   \n",
              "3               11                5                7                0   \n",
              "4                1               11                3                0   \n",
              "\n",
              "   inter_followees  adar_index  ...     svd_v_s_6     svd_v_d_1     svd_v_d_2  \\\n",
              "0                0    0.000000  ...  1.719702e-14 -1.355368e-12  4.675307e-13   \n",
              "1               32   16.362912  ...  2.251737e-10  1.245101e-12 -1.636948e-10   \n",
              "2               17   10.991826  ... -3.365389e-19 -1.238370e-18  1.438175e-19   \n",
              "3                0    0.000000  ...  4.498061e-13 -9.818087e-10  3.454672e-11   \n",
              "4                0    0.000000  ...  1.407670e-14  0.000000e+00  0.000000e+00   \n",
              "\n",
              "      svd_v_d_3     svd_v_d_4     svd_v_d_5     svd_v_d_6  num_followers_d  \\\n",
              "0  1.128591e-06  6.616550e-14  9.771077e-13  4.159752e-14                0   \n",
              "1 -3.112650e-10  6.738902e-02  2.607801e-11  2.372904e-09                0   \n",
              "2 -1.852863e-19 -5.901864e-19  1.629341e-19 -2.572452e-19                0   \n",
              "3  5.213635e-08  9.595823e-13  3.047045e-10  1.246592e-13                0   \n",
              "4  0.000000e+00  0.000000e+00  0.000000e+00  0.000000e+00                0   \n",
              "\n",
              "   followers_preferential  followees_preferential  \n",
              "0                       0                       0  \n",
              "1                       0                       0  \n",
              "2                       0                       0  \n",
              "3                       0                       0  \n",
              "4                       0                       0  \n",
              "\n",
              "[5 rows x 54 columns]"
            ],
            "text/html": [
              "\n",
              "  <div id=\"df-2df6fe5d-a153-477c-869e-6ec9fd1aa185\">\n",
              "    <div class=\"colab-df-container\">\n",
              "      <div>\n",
              "<style scoped>\n",
              "    .dataframe tbody tr th:only-of-type {\n",
              "        vertical-align: middle;\n",
              "    }\n",
              "\n",
              "    .dataframe tbody tr th {\n",
              "        vertical-align: top;\n",
              "    }\n",
              "\n",
              "    .dataframe thead th {\n",
              "        text-align: right;\n",
              "    }\n",
              "</style>\n",
              "<table border=\"1\" class=\"dataframe\">\n",
              "  <thead>\n",
              "    <tr style=\"text-align: right;\">\n",
              "      <th></th>\n",
              "      <th>jaccard_followers</th>\n",
              "      <th>jaccard_followees</th>\n",
              "      <th>cosine_followers</th>\n",
              "      <th>cosine_followees</th>\n",
              "      <th>num_followers_s</th>\n",
              "      <th>num_followees_s</th>\n",
              "      <th>num_followees_d</th>\n",
              "      <th>inter_followers</th>\n",
              "      <th>inter_followees</th>\n",
              "      <th>adar_index</th>\n",
              "      <th>...</th>\n",
              "      <th>svd_v_s_6</th>\n",
              "      <th>svd_v_d_1</th>\n",
              "      <th>svd_v_d_2</th>\n",
              "      <th>svd_v_d_3</th>\n",
              "      <th>svd_v_d_4</th>\n",
              "      <th>svd_v_d_5</th>\n",
              "      <th>svd_v_d_6</th>\n",
              "      <th>num_followers_d</th>\n",
              "      <th>followers_preferential</th>\n",
              "      <th>followees_preferential</th>\n",
              "    </tr>\n",
              "  </thead>\n",
              "  <tbody>\n",
              "    <tr>\n",
              "      <th>0</th>\n",
              "      <td>0</td>\n",
              "      <td>0.000000</td>\n",
              "      <td>0.000000</td>\n",
              "      <td>0.000000</td>\n",
              "      <td>6</td>\n",
              "      <td>15</td>\n",
              "      <td>8</td>\n",
              "      <td>0</td>\n",
              "      <td>0</td>\n",
              "      <td>0.000000</td>\n",
              "      <td>...</td>\n",
              "      <td>1.719702e-14</td>\n",
              "      <td>-1.355368e-12</td>\n",
              "      <td>4.675307e-13</td>\n",
              "      <td>1.128591e-06</td>\n",
              "      <td>6.616550e-14</td>\n",
              "      <td>9.771077e-13</td>\n",
              "      <td>4.159752e-14</td>\n",
              "      <td>0</td>\n",
              "      <td>0</td>\n",
              "      <td>0</td>\n",
              "    </tr>\n",
              "    <tr>\n",
              "      <th>1</th>\n",
              "      <td>0</td>\n",
              "      <td>0.187135</td>\n",
              "      <td>0.028382</td>\n",
              "      <td>0.343828</td>\n",
              "      <td>94</td>\n",
              "      <td>61</td>\n",
              "      <td>142</td>\n",
              "      <td>11</td>\n",
              "      <td>32</td>\n",
              "      <td>16.362912</td>\n",
              "      <td>...</td>\n",
              "      <td>2.251737e-10</td>\n",
              "      <td>1.245101e-12</td>\n",
              "      <td>-1.636948e-10</td>\n",
              "      <td>-3.112650e-10</td>\n",
              "      <td>6.738902e-02</td>\n",
              "      <td>2.607801e-11</td>\n",
              "      <td>2.372904e-09</td>\n",
              "      <td>0</td>\n",
              "      <td>0</td>\n",
              "      <td>0</td>\n",
              "    </tr>\n",
              "    <tr>\n",
              "      <th>2</th>\n",
              "      <td>0</td>\n",
              "      <td>0.369565</td>\n",
              "      <td>0.156957</td>\n",
              "      <td>0.566038</td>\n",
              "      <td>28</td>\n",
              "      <td>41</td>\n",
              "      <td>22</td>\n",
              "      <td>26</td>\n",
              "      <td>17</td>\n",
              "      <td>10.991826</td>\n",
              "      <td>...</td>\n",
              "      <td>-3.365389e-19</td>\n",
              "      <td>-1.238370e-18</td>\n",
              "      <td>1.438175e-19</td>\n",
              "      <td>-1.852863e-19</td>\n",
              "      <td>-5.901864e-19</td>\n",
              "      <td>1.629341e-19</td>\n",
              "      <td>-2.572452e-19</td>\n",
              "      <td>0</td>\n",
              "      <td>0</td>\n",
              "      <td>0</td>\n",
              "    </tr>\n",
              "    <tr>\n",
              "      <th>3</th>\n",
              "      <td>0</td>\n",
              "      <td>0.000000</td>\n",
              "      <td>0.000000</td>\n",
              "      <td>0.000000</td>\n",
              "      <td>11</td>\n",
              "      <td>5</td>\n",
              "      <td>7</td>\n",
              "      <td>0</td>\n",
              "      <td>0</td>\n",
              "      <td>0.000000</td>\n",
              "      <td>...</td>\n",
              "      <td>4.498061e-13</td>\n",
              "      <td>-9.818087e-10</td>\n",
              "      <td>3.454672e-11</td>\n",
              "      <td>5.213635e-08</td>\n",
              "      <td>9.595823e-13</td>\n",
              "      <td>3.047045e-10</td>\n",
              "      <td>1.246592e-13</td>\n",
              "      <td>0</td>\n",
              "      <td>0</td>\n",
              "      <td>0</td>\n",
              "    </tr>\n",
              "    <tr>\n",
              "      <th>4</th>\n",
              "      <td>0</td>\n",
              "      <td>0.000000</td>\n",
              "      <td>0.000000</td>\n",
              "      <td>0.000000</td>\n",
              "      <td>1</td>\n",
              "      <td>11</td>\n",
              "      <td>3</td>\n",
              "      <td>0</td>\n",
              "      <td>0</td>\n",
              "      <td>0.000000</td>\n",
              "      <td>...</td>\n",
              "      <td>1.407670e-14</td>\n",
              "      <td>0.000000e+00</td>\n",
              "      <td>0.000000e+00</td>\n",
              "      <td>0.000000e+00</td>\n",
              "      <td>0.000000e+00</td>\n",
              "      <td>0.000000e+00</td>\n",
              "      <td>0.000000e+00</td>\n",
              "      <td>0</td>\n",
              "      <td>0</td>\n",
              "      <td>0</td>\n",
              "    </tr>\n",
              "  </tbody>\n",
              "</table>\n",
              "<p>5 rows × 54 columns</p>\n",
              "</div>\n",
              "      <button class=\"colab-df-convert\" onclick=\"convertToInteractive('df-2df6fe5d-a153-477c-869e-6ec9fd1aa185')\"\n",
              "              title=\"Convert this dataframe to an interactive table.\"\n",
              "              style=\"display:none;\">\n",
              "        \n",
              "  <svg xmlns=\"http://www.w3.org/2000/svg\" height=\"24px\"viewBox=\"0 0 24 24\"\n",
              "       width=\"24px\">\n",
              "    <path d=\"M0 0h24v24H0V0z\" fill=\"none\"/>\n",
              "    <path d=\"M18.56 5.44l.94 2.06.94-2.06 2.06-.94-2.06-.94-.94-2.06-.94 2.06-2.06.94zm-11 1L8.5 8.5l.94-2.06 2.06-.94-2.06-.94L8.5 2.5l-.94 2.06-2.06.94zm10 10l.94 2.06.94-2.06 2.06-.94-2.06-.94-.94-2.06-.94 2.06-2.06.94z\"/><path d=\"M17.41 7.96l-1.37-1.37c-.4-.4-.92-.59-1.43-.59-.52 0-1.04.2-1.43.59L10.3 9.45l-7.72 7.72c-.78.78-.78 2.05 0 2.83L4 21.41c.39.39.9.59 1.41.59.51 0 1.02-.2 1.41-.59l7.78-7.78 2.81-2.81c.8-.78.8-2.07 0-2.86zM5.41 20L4 18.59l7.72-7.72 1.47 1.35L5.41 20z\"/>\n",
              "  </svg>\n",
              "      </button>\n",
              "      \n",
              "  <style>\n",
              "    .colab-df-container {\n",
              "      display:flex;\n",
              "      flex-wrap:wrap;\n",
              "      gap: 12px;\n",
              "    }\n",
              "\n",
              "    .colab-df-convert {\n",
              "      background-color: #E8F0FE;\n",
              "      border: none;\n",
              "      border-radius: 50%;\n",
              "      cursor: pointer;\n",
              "      display: none;\n",
              "      fill: #1967D2;\n",
              "      height: 32px;\n",
              "      padding: 0 0 0 0;\n",
              "      width: 32px;\n",
              "    }\n",
              "\n",
              "    .colab-df-convert:hover {\n",
              "      background-color: #E2EBFA;\n",
              "      box-shadow: 0px 1px 2px rgba(60, 64, 67, 0.3), 0px 1px 3px 1px rgba(60, 64, 67, 0.15);\n",
              "      fill: #174EA6;\n",
              "    }\n",
              "\n",
              "    [theme=dark] .colab-df-convert {\n",
              "      background-color: #3B4455;\n",
              "      fill: #D2E3FC;\n",
              "    }\n",
              "\n",
              "    [theme=dark] .colab-df-convert:hover {\n",
              "      background-color: #434B5C;\n",
              "      box-shadow: 0px 1px 3px 1px rgba(0, 0, 0, 0.15);\n",
              "      filter: drop-shadow(0px 1px 2px rgba(0, 0, 0, 0.3));\n",
              "      fill: #FFFFFF;\n",
              "    }\n",
              "  </style>\n",
              "\n",
              "      <script>\n",
              "        const buttonEl =\n",
              "          document.querySelector('#df-2df6fe5d-a153-477c-869e-6ec9fd1aa185 button.colab-df-convert');\n",
              "        buttonEl.style.display =\n",
              "          google.colab.kernel.accessAllowed ? 'block' : 'none';\n",
              "\n",
              "        async function convertToInteractive(key) {\n",
              "          const element = document.querySelector('#df-2df6fe5d-a153-477c-869e-6ec9fd1aa185');\n",
              "          const dataTable =\n",
              "            await google.colab.kernel.invokeFunction('convertToInteractive',\n",
              "                                                     [key], {});\n",
              "          if (!dataTable) return;\n",
              "\n",
              "          const docLinkHtml = 'Like what you see? Visit the ' +\n",
              "            '<a target=\"_blank\" href=https://colab.research.google.com/notebooks/data_table.ipynb>data table notebook</a>'\n",
              "            + ' to learn more about interactive tables.';\n",
              "          element.innerHTML = '';\n",
              "          dataTable['output_type'] = 'display_data';\n",
              "          await google.colab.output.renderOutput(dataTable, element);\n",
              "          const docLink = document.createElement('div');\n",
              "          docLink.innerHTML = docLinkHtml;\n",
              "          element.appendChild(docLink);\n",
              "        }\n",
              "      </script>\n",
              "    </div>\n",
              "  </div>\n",
              "  "
            ]
          },
          "metadata": {},
          "execution_count": 20
        }
      ]
    },
    {
      "cell_type": "code",
      "source": [
        "#Adding svddot features to dataset      reference-https://www.kaggle.com/code/genialgokul1099/social-network-graph-link-prediction#5.-Featurization\n",
        "svd_dot_U =[]\n",
        "value = len(np.array(df_final_train[\"svd_u_d_1\"]))\n",
        "for i in range(value):\n",
        "  u_s = []\n",
        "  u_d = []\n",
        "  u_s.append(np.array(df_final_train[\"svd_u_s_1\"][i]))\n",
        "  u_s.append(np.array(df_final_train[\"svd_u_s_2\"][i]))\n",
        "  u_s.append(np.array(df_final_train[\"svd_u_s_3\"][i]))\n",
        "  u_s.append(np.array(df_final_train[\"svd_u_s_4\"][i]))\n",
        "  u_s.append(np.array(df_final_train[\"svd_u_s_5\"][i]))\n",
        "  u_s.append(np.array(df_final_train[\"svd_u_s_6\"][i]))\n",
        "\n",
        "  u_d.append(np.array(df_final_train[\"svd_u_d_1\"][i]))\n",
        "  u_d.append(np.array(df_final_train[\"svd_u_d_2\"][i]))\n",
        "  u_d.append(np.array(df_final_train[\"svd_u_d_3\"][i]))\n",
        "  u_d.append(np.array(df_final_train[\"svd_u_d_4\"][i]))\n",
        "  u_d.append(np.array(df_final_train[\"svd_u_d_5\"][i]))\n",
        "  u_d.append(np.array(df_final_train[\"svd_u_d_6\"][i]))\n",
        "\n",
        "  svd_dot_U.append(np.dot(u_s,u_d))"
      ],
      "metadata": {
        "id": "UaQ0J8fEXGSi"
      },
      "execution_count": null,
      "outputs": []
    },
    {
      "cell_type": "code",
      "source": [
        "df_final_train['svd_dot_U'] = svd_dot_U"
      ],
      "metadata": {
        "id": "RT26uNwmk4MN"
      },
      "execution_count": null,
      "outputs": []
    },
    {
      "cell_type": "code",
      "source": [
        "#for test data\n",
        "svd_dot_U =[]\n",
        "value = len(np.array(df_final_test[\"svd_u_d_1\"]))\n",
        "for i in range(value):\n",
        "  u_s = []\n",
        "  u_d = []\n",
        "  u_s.append(np.array(df_final_test[\"svd_u_s_1\"][i]))\n",
        "  u_s.append(np.array(df_final_test[\"svd_u_s_2\"][i]))\n",
        "  u_s.append(np.array(df_final_test[\"svd_u_s_3\"][i]))\n",
        "  u_s.append(np.array(df_final_test[\"svd_u_s_4\"][i]))\n",
        "  u_s.append(np.array(df_final_test[\"svd_u_s_5\"][i]))\n",
        "  u_s.append(np.array(df_final_test[\"svd_u_s_6\"][i]))\n",
        "\n",
        "  u_d.append(np.array(df_final_test[\"svd_u_d_1\"][i]))\n",
        "  u_d.append(np.array(df_final_test[\"svd_u_d_2\"][i]))\n",
        "  u_d.append(np.array(df_final_test[\"svd_u_d_3\"][i]))\n",
        "  u_d.append(np.array(df_final_test[\"svd_u_d_4\"][i]))\n",
        "  u_d.append(np.array(df_final_test[\"svd_u_d_5\"][i]))\n",
        "  u_d.append(np.array(df_final_test[\"svd_u_d_6\"][i]))\n",
        "\n",
        "  svd_dot_U.append(np.dot(u_s,u_d))"
      ],
      "metadata": {
        "id": "xiiyva-ujwz8"
      },
      "execution_count": null,
      "outputs": []
    },
    {
      "cell_type": "code",
      "source": [
        "df_final_test['svd_dot_U'] = svd_dot_U"
      ],
      "metadata": {
        "id": "A-1l_iWclH05"
      },
      "execution_count": null,
      "outputs": []
    },
    {
      "cell_type": "code",
      "source": [
        "#for train data\n",
        "svd_dot_V = []\n",
        "range_value = len(np.array(df_final_train[\"svd_v_d_1\"]))\n",
        "for i in range(range_value):\n",
        "  v_s = []\n",
        "  v_d = []\n",
        "  v_s.append(np.array(df_final_train[\"svd_v_s_1\"][i]))\n",
        "  v_s.append(np.array(df_final_train[\"svd_v_s_2\"][i]))\n",
        "  v_s.append(np.array(df_final_train[\"svd_v_s_3\"][i]))\n",
        "  v_s.append(np.array(df_final_train[\"svd_v_s_4\"][i]))\n",
        "  v_s.append(np.array(df_final_train[\"svd_v_s_5\"][i]))\n",
        "  v_s.append(np.array(df_final_train[\"svd_v_s_6\"][i]))\n",
        "\n",
        "  v_d.append(np.array(df_final_train[\"svd_v_d_1\"][i]))\n",
        "  v_d.append(np.array(df_final_train[\"svd_v_d_2\"][i]))\n",
        "  v_d.append(np.array(df_final_train[\"svd_v_d_3\"][i]))\n",
        "  v_d.append(np.array(df_final_train[\"svd_v_d_4\"][i]))\n",
        "  v_d.append(np.array(df_final_train[\"svd_v_d_5\"][i]))\n",
        "  v_d.append(np.array(df_final_train[\"svd_v_d_6\"][i]))\n",
        "\n",
        "  svd_dot_V.append(np.dot(v_s,v_d))\n",
        "\n",
        "\n",
        "\n",
        "df_final_train['svd_dot_V'] = svd_dot_V"
      ],
      "metadata": {
        "id": "c0Mormh3kKEV"
      },
      "execution_count": null,
      "outputs": []
    },
    {
      "cell_type": "code",
      "source": [
        "#for test data\n",
        "svd_dot_V = []\n",
        "range_value = len(np.array(df_final_test[\"svd_v_d_1\"]))\n",
        "for i in range(range_value):\n",
        "  v_s = []\n",
        "  v_d = []\n",
        "  v_s.append(np.array(df_final_test[\"svd_v_s_1\"][i]))\n",
        "  v_s.append(np.array(df_final_test[\"svd_v_s_2\"][i]))\n",
        "  v_s.append(np.array(df_final_test[\"svd_v_s_3\"][i]))\n",
        "  v_s.append(np.array(df_final_test[\"svd_v_s_4\"][i]))\n",
        "  v_s.append(np.array(df_final_test[\"svd_v_s_5\"][i]))\n",
        "  v_s.append(np.array(df_final_test[\"svd_v_s_6\"][i]))\n",
        "\n",
        "  v_d.append(np.array(df_final_test[\"svd_v_d_1\"][i]))\n",
        "  v_d.append(np.array(df_final_test[\"svd_v_d_2\"][i]))\n",
        "  v_d.append(np.array(df_final_test[\"svd_v_d_3\"][i]))\n",
        "  v_d.append(np.array(df_final_test[\"svd_v_d_4\"][i]))\n",
        "  v_d.append(np.array(df_final_test[\"svd_v_d_5\"][i]))\n",
        "  v_d.append(np.array(df_final_test[\"svd_v_d_6\"][i]))\n",
        "\n",
        "  svd_dot_V.append(np.dot(v_s,v_d))\n",
        "\n",
        "\n",
        "df_final_test['svd_dot_V'] = svd_dot_V"
      ],
      "metadata": {
        "id": "apIJmz0ukVvz"
      },
      "execution_count": null,
      "outputs": []
    },
    {
      "cell_type": "code",
      "source": [
        "df_final_test.head()"
      ],
      "metadata": {
        "colab": {
          "base_uri": "https://localhost:8080/",
          "height": 386
        },
        "id": "421oTV0imwbu",
        "outputId": "cbd25f85-44e8-4d65-87a7-5881c1da67e9"
      },
      "execution_count": null,
      "outputs": [
        {
          "output_type": "execute_result",
          "data": {
            "text/plain": [
              "   jaccard_followers  jaccard_followees  cosine_followers  cosine_followees  \\\n",
              "0                  0                0.0          0.029161          0.000000   \n",
              "1                  0                0.0          0.000000          0.000000   \n",
              "2                  0                0.0          0.000000          0.000000   \n",
              "3                  0                0.0          0.000000          0.000000   \n",
              "4                  0                0.2          0.042767          0.347833   \n",
              "\n",
              "   num_followers_s  num_followees_s  num_followees_d  inter_followers  \\\n",
              "0               14                6                9                1   \n",
              "1               17                1               19                0   \n",
              "2               10               16                9                0   \n",
              "3               37               10               34                0   \n",
              "4               27               15               27                4   \n",
              "\n",
              "   inter_followees  adar_index  ...     svd_v_d_2     svd_v_d_3     svd_v_d_4  \\\n",
              "0                0    0.000000  ...  5.791910e-10  3.512364e-07  2.486658e-09   \n",
              "1                0    0.000000  ...  3.206809e-10  4.668696e-08  6.665777e-12   \n",
              "2                0    0.000000  ...  4.789463e-13  3.479824e-07  1.630549e-13   \n",
              "3                0    0.000000  ...  6.939194e-12  1.879861e-05  4.384816e-12   \n",
              "4                7    6.136433  ...  7.467370e-12  1.256880e-05  3.636983e-12   \n",
              "\n",
              "      svd_v_d_5     svd_v_d_6  num_followers_d  followers_preferential  \\\n",
              "0  2.771146e-09  1.727694e-12                0                       0   \n",
              "1  1.495979e-10  9.836670e-14                0                       0   \n",
              "2  3.954708e-13  3.875785e-14                0                       0   \n",
              "3  1.239414e-11  6.483485e-13                0                       0   \n",
              "4  3.948463e-12  2.415863e-13                0                       0   \n",
              "\n",
              "   followees_preferential     svd_dot_U     svd_dot_V  \n",
              "0                       0  8.425267e-20  2.074808e-17  \n",
              "1                       0  1.352160e-17  1.188376e-17  \n",
              "2                       0  3.671980e-13  3.904885e-12  \n",
              "3                       0  1.634044e-10  9.819784e-11  \n",
              "4                       0  1.246700e-11  1.300892e-11  \n",
              "\n",
              "[5 rows x 56 columns]"
            ],
            "text/html": [
              "\n",
              "  <div id=\"df-5ef6ac55-e90b-4db9-8773-fa610f69f46e\">\n",
              "    <div class=\"colab-df-container\">\n",
              "      <div>\n",
              "<style scoped>\n",
              "    .dataframe tbody tr th:only-of-type {\n",
              "        vertical-align: middle;\n",
              "    }\n",
              "\n",
              "    .dataframe tbody tr th {\n",
              "        vertical-align: top;\n",
              "    }\n",
              "\n",
              "    .dataframe thead th {\n",
              "        text-align: right;\n",
              "    }\n",
              "</style>\n",
              "<table border=\"1\" class=\"dataframe\">\n",
              "  <thead>\n",
              "    <tr style=\"text-align: right;\">\n",
              "      <th></th>\n",
              "      <th>jaccard_followers</th>\n",
              "      <th>jaccard_followees</th>\n",
              "      <th>cosine_followers</th>\n",
              "      <th>cosine_followees</th>\n",
              "      <th>num_followers_s</th>\n",
              "      <th>num_followees_s</th>\n",
              "      <th>num_followees_d</th>\n",
              "      <th>inter_followers</th>\n",
              "      <th>inter_followees</th>\n",
              "      <th>adar_index</th>\n",
              "      <th>...</th>\n",
              "      <th>svd_v_d_2</th>\n",
              "      <th>svd_v_d_3</th>\n",
              "      <th>svd_v_d_4</th>\n",
              "      <th>svd_v_d_5</th>\n",
              "      <th>svd_v_d_6</th>\n",
              "      <th>num_followers_d</th>\n",
              "      <th>followers_preferential</th>\n",
              "      <th>followees_preferential</th>\n",
              "      <th>svd_dot_U</th>\n",
              "      <th>svd_dot_V</th>\n",
              "    </tr>\n",
              "  </thead>\n",
              "  <tbody>\n",
              "    <tr>\n",
              "      <th>0</th>\n",
              "      <td>0</td>\n",
              "      <td>0.0</td>\n",
              "      <td>0.029161</td>\n",
              "      <td>0.000000</td>\n",
              "      <td>14</td>\n",
              "      <td>6</td>\n",
              "      <td>9</td>\n",
              "      <td>1</td>\n",
              "      <td>0</td>\n",
              "      <td>0.000000</td>\n",
              "      <td>...</td>\n",
              "      <td>5.791910e-10</td>\n",
              "      <td>3.512364e-07</td>\n",
              "      <td>2.486658e-09</td>\n",
              "      <td>2.771146e-09</td>\n",
              "      <td>1.727694e-12</td>\n",
              "      <td>0</td>\n",
              "      <td>0</td>\n",
              "      <td>0</td>\n",
              "      <td>8.425267e-20</td>\n",
              "      <td>2.074808e-17</td>\n",
              "    </tr>\n",
              "    <tr>\n",
              "      <th>1</th>\n",
              "      <td>0</td>\n",
              "      <td>0.0</td>\n",
              "      <td>0.000000</td>\n",
              "      <td>0.000000</td>\n",
              "      <td>17</td>\n",
              "      <td>1</td>\n",
              "      <td>19</td>\n",
              "      <td>0</td>\n",
              "      <td>0</td>\n",
              "      <td>0.000000</td>\n",
              "      <td>...</td>\n",
              "      <td>3.206809e-10</td>\n",
              "      <td>4.668696e-08</td>\n",
              "      <td>6.665777e-12</td>\n",
              "      <td>1.495979e-10</td>\n",
              "      <td>9.836670e-14</td>\n",
              "      <td>0</td>\n",
              "      <td>0</td>\n",
              "      <td>0</td>\n",
              "      <td>1.352160e-17</td>\n",
              "      <td>1.188376e-17</td>\n",
              "    </tr>\n",
              "    <tr>\n",
              "      <th>2</th>\n",
              "      <td>0</td>\n",
              "      <td>0.0</td>\n",
              "      <td>0.000000</td>\n",
              "      <td>0.000000</td>\n",
              "      <td>10</td>\n",
              "      <td>16</td>\n",
              "      <td>9</td>\n",
              "      <td>0</td>\n",
              "      <td>0</td>\n",
              "      <td>0.000000</td>\n",
              "      <td>...</td>\n",
              "      <td>4.789463e-13</td>\n",
              "      <td>3.479824e-07</td>\n",
              "      <td>1.630549e-13</td>\n",
              "      <td>3.954708e-13</td>\n",
              "      <td>3.875785e-14</td>\n",
              "      <td>0</td>\n",
              "      <td>0</td>\n",
              "      <td>0</td>\n",
              "      <td>3.671980e-13</td>\n",
              "      <td>3.904885e-12</td>\n",
              "    </tr>\n",
              "    <tr>\n",
              "      <th>3</th>\n",
              "      <td>0</td>\n",
              "      <td>0.0</td>\n",
              "      <td>0.000000</td>\n",
              "      <td>0.000000</td>\n",
              "      <td>37</td>\n",
              "      <td>10</td>\n",
              "      <td>34</td>\n",
              "      <td>0</td>\n",
              "      <td>0</td>\n",
              "      <td>0.000000</td>\n",
              "      <td>...</td>\n",
              "      <td>6.939194e-12</td>\n",
              "      <td>1.879861e-05</td>\n",
              "      <td>4.384816e-12</td>\n",
              "      <td>1.239414e-11</td>\n",
              "      <td>6.483485e-13</td>\n",
              "      <td>0</td>\n",
              "      <td>0</td>\n",
              "      <td>0</td>\n",
              "      <td>1.634044e-10</td>\n",
              "      <td>9.819784e-11</td>\n",
              "    </tr>\n",
              "    <tr>\n",
              "      <th>4</th>\n",
              "      <td>0</td>\n",
              "      <td>0.2</td>\n",
              "      <td>0.042767</td>\n",
              "      <td>0.347833</td>\n",
              "      <td>27</td>\n",
              "      <td>15</td>\n",
              "      <td>27</td>\n",
              "      <td>4</td>\n",
              "      <td>7</td>\n",
              "      <td>6.136433</td>\n",
              "      <td>...</td>\n",
              "      <td>7.467370e-12</td>\n",
              "      <td>1.256880e-05</td>\n",
              "      <td>3.636983e-12</td>\n",
              "      <td>3.948463e-12</td>\n",
              "      <td>2.415863e-13</td>\n",
              "      <td>0</td>\n",
              "      <td>0</td>\n",
              "      <td>0</td>\n",
              "      <td>1.246700e-11</td>\n",
              "      <td>1.300892e-11</td>\n",
              "    </tr>\n",
              "  </tbody>\n",
              "</table>\n",
              "<p>5 rows × 56 columns</p>\n",
              "</div>\n",
              "      <button class=\"colab-df-convert\" onclick=\"convertToInteractive('df-5ef6ac55-e90b-4db9-8773-fa610f69f46e')\"\n",
              "              title=\"Convert this dataframe to an interactive table.\"\n",
              "              style=\"display:none;\">\n",
              "        \n",
              "  <svg xmlns=\"http://www.w3.org/2000/svg\" height=\"24px\"viewBox=\"0 0 24 24\"\n",
              "       width=\"24px\">\n",
              "    <path d=\"M0 0h24v24H0V0z\" fill=\"none\"/>\n",
              "    <path d=\"M18.56 5.44l.94 2.06.94-2.06 2.06-.94-2.06-.94-.94-2.06-.94 2.06-2.06.94zm-11 1L8.5 8.5l.94-2.06 2.06-.94-2.06-.94L8.5 2.5l-.94 2.06-2.06.94zm10 10l.94 2.06.94-2.06 2.06-.94-2.06-.94-.94-2.06-.94 2.06-2.06.94z\"/><path d=\"M17.41 7.96l-1.37-1.37c-.4-.4-.92-.59-1.43-.59-.52 0-1.04.2-1.43.59L10.3 9.45l-7.72 7.72c-.78.78-.78 2.05 0 2.83L4 21.41c.39.39.9.59 1.41.59.51 0 1.02-.2 1.41-.59l7.78-7.78 2.81-2.81c.8-.78.8-2.07 0-2.86zM5.41 20L4 18.59l7.72-7.72 1.47 1.35L5.41 20z\"/>\n",
              "  </svg>\n",
              "      </button>\n",
              "      \n",
              "  <style>\n",
              "    .colab-df-container {\n",
              "      display:flex;\n",
              "      flex-wrap:wrap;\n",
              "      gap: 12px;\n",
              "    }\n",
              "\n",
              "    .colab-df-convert {\n",
              "      background-color: #E8F0FE;\n",
              "      border: none;\n",
              "      border-radius: 50%;\n",
              "      cursor: pointer;\n",
              "      display: none;\n",
              "      fill: #1967D2;\n",
              "      height: 32px;\n",
              "      padding: 0 0 0 0;\n",
              "      width: 32px;\n",
              "    }\n",
              "\n",
              "    .colab-df-convert:hover {\n",
              "      background-color: #E2EBFA;\n",
              "      box-shadow: 0px 1px 2px rgba(60, 64, 67, 0.3), 0px 1px 3px 1px rgba(60, 64, 67, 0.15);\n",
              "      fill: #174EA6;\n",
              "    }\n",
              "\n",
              "    [theme=dark] .colab-df-convert {\n",
              "      background-color: #3B4455;\n",
              "      fill: #D2E3FC;\n",
              "    }\n",
              "\n",
              "    [theme=dark] .colab-df-convert:hover {\n",
              "      background-color: #434B5C;\n",
              "      box-shadow: 0px 1px 3px 1px rgba(0, 0, 0, 0.15);\n",
              "      filter: drop-shadow(0px 1px 2px rgba(0, 0, 0, 0.3));\n",
              "      fill: #FFFFFF;\n",
              "    }\n",
              "  </style>\n",
              "\n",
              "      <script>\n",
              "        const buttonEl =\n",
              "          document.querySelector('#df-5ef6ac55-e90b-4db9-8773-fa610f69f46e button.colab-df-convert');\n",
              "        buttonEl.style.display =\n",
              "          google.colab.kernel.accessAllowed ? 'block' : 'none';\n",
              "\n",
              "        async function convertToInteractive(key) {\n",
              "          const element = document.querySelector('#df-5ef6ac55-e90b-4db9-8773-fa610f69f46e');\n",
              "          const dataTable =\n",
              "            await google.colab.kernel.invokeFunction('convertToInteractive',\n",
              "                                                     [key], {});\n",
              "          if (!dataTable) return;\n",
              "\n",
              "          const docLinkHtml = 'Like what you see? Visit the ' +\n",
              "            '<a target=\"_blank\" href=https://colab.research.google.com/notebooks/data_table.ipynb>data table notebook</a>'\n",
              "            + ' to learn more about interactive tables.';\n",
              "          element.innerHTML = '';\n",
              "          dataTable['output_type'] = 'display_data';\n",
              "          await google.colab.output.renderOutput(dataTable, element);\n",
              "          const docLink = document.createElement('div');\n",
              "          docLink.innerHTML = docLinkHtml;\n",
              "          element.appendChild(docLink);\n",
              "        }\n",
              "      </script>\n",
              "    </div>\n",
              "  </div>\n",
              "  "
            ]
          },
          "metadata": {},
          "execution_count": 27
        }
      ]
    },
    {
      "cell_type": "code",
      "source": [
        "df_final_train.head()"
      ],
      "metadata": {
        "colab": {
          "base_uri": "https://localhost:8080/",
          "height": 386
        },
        "id": "rwVBFREum4Mt",
        "outputId": "e7b50e87-ed51-43d1-dce6-ae9b362fa219"
      },
      "execution_count": null,
      "outputs": [
        {
          "output_type": "execute_result",
          "data": {
            "text/plain": [
              "   jaccard_followers  jaccard_followees  cosine_followers  cosine_followees  \\\n",
              "0                  0           0.000000          0.000000          0.000000   \n",
              "1                  0           0.187135          0.028382          0.343828   \n",
              "2                  0           0.369565          0.156957          0.566038   \n",
              "3                  0           0.000000          0.000000          0.000000   \n",
              "4                  0           0.000000          0.000000          0.000000   \n",
              "\n",
              "   num_followers_s  num_followees_s  num_followees_d  inter_followers  \\\n",
              "0                6               15                8                0   \n",
              "1               94               61              142               11   \n",
              "2               28               41               22               26   \n",
              "3               11                5                7                0   \n",
              "4                1               11                3                0   \n",
              "\n",
              "   inter_followees  adar_index  ...     svd_v_d_2     svd_v_d_3     svd_v_d_4  \\\n",
              "0                0    0.000000  ...  4.675307e-13  1.128591e-06  6.616550e-14   \n",
              "1               32   16.362912  ... -1.636948e-10 -3.112650e-10  6.738902e-02   \n",
              "2               17   10.991826  ...  1.438175e-19 -1.852863e-19 -5.901864e-19   \n",
              "3                0    0.000000  ...  3.454672e-11  5.213635e-08  9.595823e-13   \n",
              "4                0    0.000000  ...  0.000000e+00  0.000000e+00  0.000000e+00   \n",
              "\n",
              "      svd_v_d_5     svd_v_d_6  num_followers_d  followers_preferential  \\\n",
              "0  9.771077e-13  4.159752e-14                0                       0   \n",
              "1  2.607801e-11  2.372904e-09                0                       0   \n",
              "2  1.629341e-19 -2.572452e-19                0                       0   \n",
              "3  3.047045e-10  1.246592e-13                0                       0   \n",
              "4  0.000000e+00  0.000000e+00                0                       0   \n",
              "\n",
              "   followees_preferential     svd_dot_U     svd_dot_V  \n",
              "0                       0  1.114958e-11  2.238775e-12  \n",
              "1                       0  3.192812e-03  9.068719e-04  \n",
              "2                       0  1.787503e-35  2.467873e-36  \n",
              "3                       0  4.710376e-20  3.159386e-18  \n",
              "4                       0  7.773952e-14  0.000000e+00  \n",
              "\n",
              "[5 rows x 56 columns]"
            ],
            "text/html": [
              "\n",
              "  <div id=\"df-4da65a6d-9e22-400d-a8ad-1c1e48e60e6c\">\n",
              "    <div class=\"colab-df-container\">\n",
              "      <div>\n",
              "<style scoped>\n",
              "    .dataframe tbody tr th:only-of-type {\n",
              "        vertical-align: middle;\n",
              "    }\n",
              "\n",
              "    .dataframe tbody tr th {\n",
              "        vertical-align: top;\n",
              "    }\n",
              "\n",
              "    .dataframe thead th {\n",
              "        text-align: right;\n",
              "    }\n",
              "</style>\n",
              "<table border=\"1\" class=\"dataframe\">\n",
              "  <thead>\n",
              "    <tr style=\"text-align: right;\">\n",
              "      <th></th>\n",
              "      <th>jaccard_followers</th>\n",
              "      <th>jaccard_followees</th>\n",
              "      <th>cosine_followers</th>\n",
              "      <th>cosine_followees</th>\n",
              "      <th>num_followers_s</th>\n",
              "      <th>num_followees_s</th>\n",
              "      <th>num_followees_d</th>\n",
              "      <th>inter_followers</th>\n",
              "      <th>inter_followees</th>\n",
              "      <th>adar_index</th>\n",
              "      <th>...</th>\n",
              "      <th>svd_v_d_2</th>\n",
              "      <th>svd_v_d_3</th>\n",
              "      <th>svd_v_d_4</th>\n",
              "      <th>svd_v_d_5</th>\n",
              "      <th>svd_v_d_6</th>\n",
              "      <th>num_followers_d</th>\n",
              "      <th>followers_preferential</th>\n",
              "      <th>followees_preferential</th>\n",
              "      <th>svd_dot_U</th>\n",
              "      <th>svd_dot_V</th>\n",
              "    </tr>\n",
              "  </thead>\n",
              "  <tbody>\n",
              "    <tr>\n",
              "      <th>0</th>\n",
              "      <td>0</td>\n",
              "      <td>0.000000</td>\n",
              "      <td>0.000000</td>\n",
              "      <td>0.000000</td>\n",
              "      <td>6</td>\n",
              "      <td>15</td>\n",
              "      <td>8</td>\n",
              "      <td>0</td>\n",
              "      <td>0</td>\n",
              "      <td>0.000000</td>\n",
              "      <td>...</td>\n",
              "      <td>4.675307e-13</td>\n",
              "      <td>1.128591e-06</td>\n",
              "      <td>6.616550e-14</td>\n",
              "      <td>9.771077e-13</td>\n",
              "      <td>4.159752e-14</td>\n",
              "      <td>0</td>\n",
              "      <td>0</td>\n",
              "      <td>0</td>\n",
              "      <td>1.114958e-11</td>\n",
              "      <td>2.238775e-12</td>\n",
              "    </tr>\n",
              "    <tr>\n",
              "      <th>1</th>\n",
              "      <td>0</td>\n",
              "      <td>0.187135</td>\n",
              "      <td>0.028382</td>\n",
              "      <td>0.343828</td>\n",
              "      <td>94</td>\n",
              "      <td>61</td>\n",
              "      <td>142</td>\n",
              "      <td>11</td>\n",
              "      <td>32</td>\n",
              "      <td>16.362912</td>\n",
              "      <td>...</td>\n",
              "      <td>-1.636948e-10</td>\n",
              "      <td>-3.112650e-10</td>\n",
              "      <td>6.738902e-02</td>\n",
              "      <td>2.607801e-11</td>\n",
              "      <td>2.372904e-09</td>\n",
              "      <td>0</td>\n",
              "      <td>0</td>\n",
              "      <td>0</td>\n",
              "      <td>3.192812e-03</td>\n",
              "      <td>9.068719e-04</td>\n",
              "    </tr>\n",
              "    <tr>\n",
              "      <th>2</th>\n",
              "      <td>0</td>\n",
              "      <td>0.369565</td>\n",
              "      <td>0.156957</td>\n",
              "      <td>0.566038</td>\n",
              "      <td>28</td>\n",
              "      <td>41</td>\n",
              "      <td>22</td>\n",
              "      <td>26</td>\n",
              "      <td>17</td>\n",
              "      <td>10.991826</td>\n",
              "      <td>...</td>\n",
              "      <td>1.438175e-19</td>\n",
              "      <td>-1.852863e-19</td>\n",
              "      <td>-5.901864e-19</td>\n",
              "      <td>1.629341e-19</td>\n",
              "      <td>-2.572452e-19</td>\n",
              "      <td>0</td>\n",
              "      <td>0</td>\n",
              "      <td>0</td>\n",
              "      <td>1.787503e-35</td>\n",
              "      <td>2.467873e-36</td>\n",
              "    </tr>\n",
              "    <tr>\n",
              "      <th>3</th>\n",
              "      <td>0</td>\n",
              "      <td>0.000000</td>\n",
              "      <td>0.000000</td>\n",
              "      <td>0.000000</td>\n",
              "      <td>11</td>\n",
              "      <td>5</td>\n",
              "      <td>7</td>\n",
              "      <td>0</td>\n",
              "      <td>0</td>\n",
              "      <td>0.000000</td>\n",
              "      <td>...</td>\n",
              "      <td>3.454672e-11</td>\n",
              "      <td>5.213635e-08</td>\n",
              "      <td>9.595823e-13</td>\n",
              "      <td>3.047045e-10</td>\n",
              "      <td>1.246592e-13</td>\n",
              "      <td>0</td>\n",
              "      <td>0</td>\n",
              "      <td>0</td>\n",
              "      <td>4.710376e-20</td>\n",
              "      <td>3.159386e-18</td>\n",
              "    </tr>\n",
              "    <tr>\n",
              "      <th>4</th>\n",
              "      <td>0</td>\n",
              "      <td>0.000000</td>\n",
              "      <td>0.000000</td>\n",
              "      <td>0.000000</td>\n",
              "      <td>1</td>\n",
              "      <td>11</td>\n",
              "      <td>3</td>\n",
              "      <td>0</td>\n",
              "      <td>0</td>\n",
              "      <td>0.000000</td>\n",
              "      <td>...</td>\n",
              "      <td>0.000000e+00</td>\n",
              "      <td>0.000000e+00</td>\n",
              "      <td>0.000000e+00</td>\n",
              "      <td>0.000000e+00</td>\n",
              "      <td>0.000000e+00</td>\n",
              "      <td>0</td>\n",
              "      <td>0</td>\n",
              "      <td>0</td>\n",
              "      <td>7.773952e-14</td>\n",
              "      <td>0.000000e+00</td>\n",
              "    </tr>\n",
              "  </tbody>\n",
              "</table>\n",
              "<p>5 rows × 56 columns</p>\n",
              "</div>\n",
              "      <button class=\"colab-df-convert\" onclick=\"convertToInteractive('df-4da65a6d-9e22-400d-a8ad-1c1e48e60e6c')\"\n",
              "              title=\"Convert this dataframe to an interactive table.\"\n",
              "              style=\"display:none;\">\n",
              "        \n",
              "  <svg xmlns=\"http://www.w3.org/2000/svg\" height=\"24px\"viewBox=\"0 0 24 24\"\n",
              "       width=\"24px\">\n",
              "    <path d=\"M0 0h24v24H0V0z\" fill=\"none\"/>\n",
              "    <path d=\"M18.56 5.44l.94 2.06.94-2.06 2.06-.94-2.06-.94-.94-2.06-.94 2.06-2.06.94zm-11 1L8.5 8.5l.94-2.06 2.06-.94-2.06-.94L8.5 2.5l-.94 2.06-2.06.94zm10 10l.94 2.06.94-2.06 2.06-.94-2.06-.94-.94-2.06-.94 2.06-2.06.94z\"/><path d=\"M17.41 7.96l-1.37-1.37c-.4-.4-.92-.59-1.43-.59-.52 0-1.04.2-1.43.59L10.3 9.45l-7.72 7.72c-.78.78-.78 2.05 0 2.83L4 21.41c.39.39.9.59 1.41.59.51 0 1.02-.2 1.41-.59l7.78-7.78 2.81-2.81c.8-.78.8-2.07 0-2.86zM5.41 20L4 18.59l7.72-7.72 1.47 1.35L5.41 20z\"/>\n",
              "  </svg>\n",
              "      </button>\n",
              "      \n",
              "  <style>\n",
              "    .colab-df-container {\n",
              "      display:flex;\n",
              "      flex-wrap:wrap;\n",
              "      gap: 12px;\n",
              "    }\n",
              "\n",
              "    .colab-df-convert {\n",
              "      background-color: #E8F0FE;\n",
              "      border: none;\n",
              "      border-radius: 50%;\n",
              "      cursor: pointer;\n",
              "      display: none;\n",
              "      fill: #1967D2;\n",
              "      height: 32px;\n",
              "      padding: 0 0 0 0;\n",
              "      width: 32px;\n",
              "    }\n",
              "\n",
              "    .colab-df-convert:hover {\n",
              "      background-color: #E2EBFA;\n",
              "      box-shadow: 0px 1px 2px rgba(60, 64, 67, 0.3), 0px 1px 3px 1px rgba(60, 64, 67, 0.15);\n",
              "      fill: #174EA6;\n",
              "    }\n",
              "\n",
              "    [theme=dark] .colab-df-convert {\n",
              "      background-color: #3B4455;\n",
              "      fill: #D2E3FC;\n",
              "    }\n",
              "\n",
              "    [theme=dark] .colab-df-convert:hover {\n",
              "      background-color: #434B5C;\n",
              "      box-shadow: 0px 1px 3px 1px rgba(0, 0, 0, 0.15);\n",
              "      filter: drop-shadow(0px 1px 2px rgba(0, 0, 0, 0.3));\n",
              "      fill: #FFFFFF;\n",
              "    }\n",
              "  </style>\n",
              "\n",
              "      <script>\n",
              "        const buttonEl =\n",
              "          document.querySelector('#df-4da65a6d-9e22-400d-a8ad-1c1e48e60e6c button.colab-df-convert');\n",
              "        buttonEl.style.display =\n",
              "          google.colab.kernel.accessAllowed ? 'block' : 'none';\n",
              "\n",
              "        async function convertToInteractive(key) {\n",
              "          const element = document.querySelector('#df-4da65a6d-9e22-400d-a8ad-1c1e48e60e6c');\n",
              "          const dataTable =\n",
              "            await google.colab.kernel.invokeFunction('convertToInteractive',\n",
              "                                                     [key], {});\n",
              "          if (!dataTable) return;\n",
              "\n",
              "          const docLinkHtml = 'Like what you see? Visit the ' +\n",
              "            '<a target=\"_blank\" href=https://colab.research.google.com/notebooks/data_table.ipynb>data table notebook</a>'\n",
              "            + ' to learn more about interactive tables.';\n",
              "          element.innerHTML = '';\n",
              "          dataTable['output_type'] = 'display_data';\n",
              "          await google.colab.output.renderOutput(dataTable, element);\n",
              "          const docLink = document.createElement('div');\n",
              "          docLink.innerHTML = docLinkHtml;\n",
              "          element.appendChild(docLink);\n",
              "        }\n",
              "      </script>\n",
              "    </div>\n",
              "  </div>\n",
              "  "
            ]
          },
          "metadata": {},
          "execution_count": 28
        }
      ]
    },
    {
      "cell_type": "code",
      "source": [
        "df_final_train.columns[df_final_train.isna().any()].tolist()\n"
      ],
      "metadata": {
        "colab": {
          "base_uri": "https://localhost:8080/"
        },
        "id": "ffd6fSI3YDJ5",
        "outputId": "5e90f22e-b7aa-4ac3-8acf-b37602d9c538"
      },
      "execution_count": null,
      "outputs": [
        {
          "output_type": "execute_result",
          "data": {
            "text/plain": [
              "[]"
            ]
          },
          "metadata": {},
          "execution_count": 29
        }
      ]
    },
    {
      "cell_type": "code",
      "source": [
        "df_final_train[\"followees_preferential\"]"
      ],
      "metadata": {
        "colab": {
          "base_uri": "https://localhost:8080/"
        },
        "id": "0BVeNZBsZP2R",
        "outputId": "c1d7760e-5e35-4802-a1ed-e30c5dadf6c2"
      },
      "execution_count": null,
      "outputs": [
        {
          "output_type": "execute_result",
          "data": {
            "text/plain": [
              "0         0\n",
              "1         0\n",
              "2         0\n",
              "3         0\n",
              "4         0\n",
              "         ..\n",
              "99997     0\n",
              "99998     0\n",
              "99999     0\n",
              "100000    0\n",
              "100001    0\n",
              "Name: followees_preferential, Length: 100002, dtype: int64"
            ]
          },
          "metadata": {},
          "execution_count": 30
        }
      ]
    },
    {
      "cell_type": "code",
      "source": [
        "from xgboost import XGBClassifier\n",
        "from sklearn.model_selection import RandomizedSearchCV\n",
        "from sklearn.calibration import CalibratedClassifierCV\n",
        "from sklearn.model_selection import GridSearchCV"
      ],
      "metadata": {
        "id": "5ERljl3ypCiB"
      },
      "execution_count": null,
      "outputs": []
    },
    {
      "cell_type": "code",
      "source": [
        "X_train = df_final_train\n",
        "X_test = df_final_test"
      ],
      "metadata": {
        "id": "rgIPi7JprTTV"
      },
      "execution_count": null,
      "outputs": []
    },
    {
      "cell_type": "code",
      "source": [
        "from sklearn.calibration import CalibratedClassifierCV"
      ],
      "metadata": {
        "id": "P24KyyAovSfH"
      },
      "execution_count": null,
      "outputs": []
    },
    {
      "cell_type": "code",
      "source": [
        "pip install xgboost --upgrade"
      ],
      "metadata": {
        "colab": {
          "base_uri": "https://localhost:8080/",
          "height": 337
        },
        "id": "XoCcr6svT3bW",
        "outputId": "2a7fd599-a9e3-43a0-f5c0-891b383599c9"
      },
      "execution_count": null,
      "outputs": [
        {
          "output_type": "stream",
          "name": "stdout",
          "text": [
            "Looking in indexes: https://pypi.org/simple, https://us-python.pkg.dev/colab-wheels/public/simple/\n",
            "Requirement already satisfied: xgboost in /usr/local/lib/python3.7/dist-packages (0.90)\n",
            "Collecting xgboost\n",
            "  Downloading xgboost-1.6.2-py3-none-manylinux2014_x86_64.whl (255.9 MB)\n",
            "\u001b[K     |████████████████████████████████| 255.9 MB 47 kB/s \n",
            "\u001b[?25hRequirement already satisfied: scipy in /usr/local/lib/python3.7/dist-packages (from xgboost) (1.7.3)\n",
            "Requirement already satisfied: numpy in /usr/local/lib/python3.7/dist-packages (from xgboost) (1.21.6)\n",
            "Installing collected packages: xgboost\n",
            "  Attempting uninstall: xgboost\n",
            "    Found existing installation: xgboost 0.90\n",
            "    Uninstalling xgboost-0.90:\n",
            "      Successfully uninstalled xgboost-0.90\n",
            "Successfully installed xgboost-1.6.2\n"
          ]
        },
        {
          "output_type": "display_data",
          "data": {
            "application/vnd.colab-display-data+json": {
              "pip_warning": {
                "packages": [
                  "xgboost"
                ]
              }
            }
          },
          "metadata": {}
        }
      ]
    },
    {
      "cell_type": "code",
      "source": [
        "from scipy import stats\n",
        "from scipy.stats import randint"
      ],
      "metadata": {
        "id": "WVJQEeZ9xYP6"
      },
      "execution_count": null,
      "outputs": []
    },
    {
      "cell_type": "code",
      "source": [
        "n_estimators = [100,200,500,1000,2000]\n",
        "train_scores = []\n",
        "test_scores = []\n",
        "for i in n_estimators:\n",
        "    clf = XGBClassifier(subsample = 1.0, n_estimators=i , min_child_weight=5, max_depth=5, learning_rate=0.1866626528544617, gamma=1, colsample_bytree=1.0)\n",
        "    clf.fit(df_final_train,y_train)\n",
        "    train_sc = f1_score(y_train,clf.predict(df_final_train))\n",
        "    test_sc = f1_score(y_test,clf.predict(df_final_test))\n",
        "    test_scores.append(test_sc)\n",
        "    train_scores.append(train_sc)\n",
        "    print('n_estimators = ',i,'Train Score',train_sc,'test Score',test_sc)\n",
        "plt.plot(n_estimators,train_scores,label='Train Score')\n",
        "plt.plot(n_estimators,test_scores,label='Test Score')\n",
        "plt.xlabel('n_estimators')\n",
        "plt.ylabel('F1 Score')\n",
        "plt.title('n_estimators vs score ')\n",
        "plt.show()"
      ],
      "metadata": {
        "colab": {
          "base_uri": "https://localhost:8080/",
          "height": 385
        },
        "id": "dYyTyRFs61IH",
        "outputId": "c7ccdfc5-c774-45e7-b9e9-f776f2a47524"
      },
      "execution_count": null,
      "outputs": [
        {
          "output_type": "stream",
          "name": "stdout",
          "text": [
            "n_estimators =  100 Train Score 0.9821943497812102 test Score 0.9284608369212497\n",
            "n_estimators =  200 Train Score 0.9902082748103856 test Score 0.9229785056294779\n",
            "n_estimators =  500 Train Score 0.9975595607209298 test Score 0.9116138763197587\n",
            "n_estimators =  1000 Train Score 0.9975595607209298 test Score 0.9116138763197587\n",
            "n_estimators =  2000 Train Score 0.9975595607209298 test Score 0.9116138763197587\n"
          ]
        },
        {
          "output_type": "display_data",
          "data": {
            "text/plain": [
              "<Figure size 432x288 with 1 Axes>"
            ],
            "image/png": "[encoded data removed]"
          },
          "metadata": {
            "needs_background": "light"
          }
        }
      ]
    },
    {
      "cell_type": "code",
      "source": [
        "learning_rate = [0.01,0.03,0.05,0.1,0.15,0.2]\n",
        "train_scores = []\n",
        "test_scores = []\n",
        "for i in learning_rate:\n",
        "    clf = XGBClassifier(subsample = 1.0, n_estimators=100 , min_child_weight=5, max_depth=5, learning_rate=i, gamma=1, colsample_bytree=1.0)\n",
        "    clf.fit(df_final_train,y_train)\n",
        "    train_sc = f1_score(y_train,clf.predict(df_final_train))\n",
        "    test_sc = f1_score(y_test,clf.predict(df_final_test))\n",
        "    test_scores.append(test_sc)\n",
        "    train_scores.append(train_sc)\n",
        "    print('learning_rate = ',i,'Train Score',train_sc,'test Score',test_sc)\n",
        "plt.plot(learning_rate,train_scores,label='Train Score')\n",
        "plt.plot(learning_rate,test_scores,label='Test Score')\n",
        "plt.xlabel('learning_rate')\n",
        "plt.ylabel('F1 Score')\n",
        "plt.title('learning_rate vs score ')\n",
        "plt.show()"
      ],
      "metadata": {
        "colab": {
          "base_uri": "https://localhost:8080/",
          "height": 403
        },
        "id": "IrZOFeKbFh2J",
        "outputId": "e5537c98-7183-40d3-f901-c2164342cf33"
      },
      "execution_count": null,
      "outputs": [
        {
          "output_type": "stream",
          "name": "stdout",
          "text": [
            "learning_rate =  0.01 Train Score 0.9298960604050169 test Score 0.927090159602579\n",
            "learning_rate =  0.03 Train Score 0.9640517882427242 test Score 0.9283665204184948\n",
            "learning_rate =  0.05 Train Score 0.9723486884132183 test Score 0.9316757076218417\n",
            "learning_rate =  0.1 Train Score 0.9763484805567919 test Score 0.9299360359215487\n",
            "learning_rate =  0.15 Train Score 0.979907357883158 test Score 0.9290617848970252\n",
            "learning_rate =  0.2 Train Score 0.9830129367670173 test Score 0.9272476382549623\n"
          ]
        },
        {
          "output_type": "display_data",
          "data": {
            "text/plain": [
              "<Figure size 432x288 with 1 Axes>"
            ],
            "image/png": "[encoded data removed]"
          },
          "metadata": {
            "needs_background": "light"
          }
        }
      ]
    },
    {
      "cell_type": "code",
      "source": [
        "gamma = [0.5, 1, 1.5, 2, 5]\n",
        "train_scores = []\n",
        "test_scores = []\n",
        "for i in gamma:\n",
        "    clf = XGBClassifier(subsample = 1.0, n_estimators=100 , min_child_weight=5, max_depth=5, learning_rate=0.05, gamma=i, colsample_bytree=1.0)\n",
        "    clf.fit(df_final_train,y_train)\n",
        "    train_sc = f1_score(y_train,clf.predict(df_final_train))\n",
        "    test_sc = f1_score(y_test,clf.predict(df_final_test))\n",
        "    test_scores.append(test_sc)\n",
        "    train_scores.append(train_sc)\n",
        "    print('gamma = ',i,'Train Score',train_sc,'test Score',test_sc)\n",
        "plt.plot(gamma,train_scores,label='Train Score')\n",
        "plt.plot(gamma,test_scores,label='Test Score')\n",
        "plt.xlabel('gamma')\n",
        "plt.ylabel('F1 Score')\n",
        "plt.title('gamma vs score ')\n",
        "plt.show()"
      ],
      "metadata": {
        "colab": {
          "base_uri": "https://localhost:8080/",
          "height": 384
        },
        "id": "j-2sXKG1JMA-",
        "outputId": "cfe2de33-a050-43c4-c161-9a4b94b0ec08"
      },
      "execution_count": null,
      "outputs": [
        {
          "output_type": "stream",
          "name": "stdout",
          "text": [
            "gamma =  0.5 Train Score 0.9725185575791994 test Score 0.9318162627712573\n",
            "gamma =  1 Train Score 0.9723486884132183 test Score 0.9316757076218417\n",
            "gamma =  1.5 Train Score 0.9718582474487986 test Score 0.9310970464135021\n",
            "gamma =  2 Train Score 0.971736859718687 test Score 0.9311101730688055\n",
            "gamma =  5 Train Score 0.9723605602945501 test Score 0.9316919698473363\n"
          ]
        },
        {
          "output_type": "display_data",
          "data": {
            "text/plain": [
              "<Figure size 432x288 with 1 Axes>"
            ],
            "image/png": "[encoded data removed]"
          },
          "metadata": {
            "needs_background": "light"
          }
        }
      ]
    },
    {
      "cell_type": "code",
      "source": [
        "subsample= [0.6, 0.8, 1.0]\n",
        "train_scores = []\n",
        "test_scores = []\n",
        "for i in subsample:\n",
        "    clf = XGBClassifier(subsample = i, n_estimators=100 , min_child_weight=5, max_depth=5, learning_rate=0.05, gamma=0.5, colsample_bytree=1.0)\n",
        "    clf.fit(df_final_train,y_train)\n",
        "    train_sc = f1_score(y_train,clf.predict(df_final_train))\n",
        "    test_sc = f1_score(y_test,clf.predict(df_final_test))\n",
        "    test_scores.append(test_sc)\n",
        "    train_scores.append(train_sc)\n",
        "    print('subsample = ',i,'Train Score',train_sc,'test Score',test_sc)\n",
        "plt.plot(subsample,train_scores,label='Train Score')\n",
        "plt.plot(subsample,test_scores,label='Test Score')\n",
        "plt.xlabel('subsample')\n",
        "plt.ylabel('F1 Score')\n",
        "plt.title('subsample vs score ')\n",
        "plt.show()"
      ],
      "metadata": {
        "colab": {
          "base_uri": "https://localhost:8080/",
          "height": 349
        },
        "id": "rexM1__aK_8g",
        "outputId": "93b913ba-5695-4129-d8af-3c0cedd9351f"
      },
      "execution_count": null,
      "outputs": [
        {
          "output_type": "stream",
          "name": "stdout",
          "text": [
            "subsample =  0.6 Train Score 0.9724488038180547 test Score 0.9317213149343799\n",
            "subsample =  0.8 Train Score 0.9716736808028488 test Score 0.9308427747125468\n",
            "subsample =  1.0 Train Score 0.9725185575791994 test Score 0.9318162627712573\n"
          ]
        },
        {
          "output_type": "display_data",
          "data": {
            "text/plain": [
              "<Figure size 432x288 with 1 Axes>"
            ],
            "image/png": "[encoded data removed]"
          },
          "metadata": {
            "needs_background": "light"
          }
        }
      ]
    },
    {
      "cell_type": "code",
      "source": [
        "colsample_bytree = [0.6, 0.8, 1.0]\n",
        "train_scores = []\n",
        "test_scores = []\n",
        "for i in colsample_bytree:\n",
        "    clf = XGBClassifier(subsample = 1.0, n_estimators=100 , min_child_weight=5, max_depth=5, learning_rate=0.05, gamma=0.5, colsample_bytree=i)\n",
        "    clf.fit(df_final_train,y_train)\n",
        "    train_sc = f1_score(y_train,clf.predict(df_final_train))\n",
        "    test_sc = f1_score(y_test,clf.predict(df_final_test))\n",
        "    test_scores.append(test_sc)\n",
        "    train_scores.append(train_sc)\n",
        "    print('colsample_bytree = ',i,'Train Score',train_sc,'test Score',test_sc)\n",
        "plt.plot(colsample_bytree,train_scores,label='Train Score')\n",
        "plt.plot(colsample_bytree,test_scores,label='Test Score')\n",
        "plt.xlabel('colsample_bytree')\n",
        "plt.ylabel('F1 Score')\n",
        "plt.title('colsample_bytree vs score ')\n",
        "plt.show()"
      ],
      "metadata": {
        "colab": {
          "base_uri": "https://localhost:8080/",
          "height": 350
        },
        "id": "hhaA0uV2MLsa",
        "outputId": "531a7fd2-ad87-4cfb-8510-736eaa886f12"
      },
      "execution_count": null,
      "outputs": [
        {
          "output_type": "stream",
          "name": "stdout",
          "text": [
            "colsample_bytree =  0.6 Train Score 0.9735821545378142 test Score 0.932697582176463\n",
            "colsample_bytree =  0.8 Train Score 0.9724419804544442 test Score 0.9314485548158761\n",
            "colsample_bytree =  1.0 Train Score 0.9725185575791994 test Score 0.9318162627712573\n"
          ]
        },
        {
          "output_type": "display_data",
          "data": {
            "text/plain": [
              "<Figure size 432x288 with 1 Axes>"
            ],
            "image/png": "[encoded data removed]"
          },
          "metadata": {
            "needs_background": "light"
          }
        }
      ]
    },
    {
      "cell_type": "code",
      "source": [
        "max_depth = [3, 4, 5,10]\n",
        "train_scores = []\n",
        "test_scores = []\n",
        "for i in max_depth:\n",
        "    clf = XGBClassifier(subsample = 1.0, n_estimators=100 , min_child_weight=5, max_depth=i, learning_rate=0.05, gamma=0.5, colsample_bytree=0.6)\n",
        "    clf.fit(df_final_train,y_train)\n",
        "    train_sc = f1_score(y_train,clf.predict(df_final_train))\n",
        "    test_sc = f1_score(y_test,clf.predict(df_final_test))\n",
        "    test_scores.append(test_sc)\n",
        "    train_scores.append(train_sc)\n",
        "    print('max_depth = ',i,'Train Score',train_sc,'test Score',test_sc)\n",
        "plt.plot(max_depth,train_scores,label='Train Score')\n",
        "plt.plot(max_depth,test_scores,label='Test Score')\n",
        "plt.xlabel('max_depth')\n",
        "plt.ylabel('F1 Score')\n",
        "plt.title('max_depth vs score ')\n",
        "plt.show()"
      ],
      "metadata": {
        "colab": {
          "base_uri": "https://localhost:8080/",
          "height": 367
        },
        "id": "XXRTZkhXNmKp",
        "outputId": "2bfbd32d-f900-483a-ed0b-ecf64fcd3ebe"
      },
      "execution_count": null,
      "outputs": [
        {
          "output_type": "stream",
          "name": "stdout",
          "text": [
            "max_depth =  3 Train Score 0.9645580430671628 test Score 0.9256365862928085\n",
            "max_depth =  4 Train Score 0.9714332023177601 test Score 0.930054875474884\n",
            "max_depth =  5 Train Score 0.9735821545378142 test Score 0.932697582176463\n",
            "max_depth =  10 Train Score 0.9820664891470992 test Score 0.930538516857735\n"
          ]
        },
        {
          "output_type": "display_data",
          "data": {
            "text/plain": [
              "<Figure size 432x288 with 1 Axes>"
            ],
            "image/png": "[encoded data removed]"
          },
          "metadata": {
            "needs_background": "light"
          }
        }
      ]
    },
    {
      "cell_type": "code",
      "source": [
        "min_child_weight = [1, 5, 10]\n",
        "train_scores = []\n",
        "test_scores = []\n",
        "for i in min_child_weight:\n",
        "    clf = XGBClassifier(subsample = 1.0, n_estimators=100 , min_child_weight=i, max_depth=5, learning_rate=0.05, gamma=0.5, colsample_bytree=0.6)\n",
        "    clf.fit(df_final_train,y_train)\n",
        "    train_sc = f1_score(y_train,clf.predict(df_final_train))\n",
        "    test_sc = f1_score(y_test,clf.predict(df_final_test))\n",
        "    test_scores.append(test_sc)\n",
        "    train_scores.append(train_sc)\n",
        "    print('min_child_weight = ',i,'Train Score',train_sc,'test Score',test_sc)\n",
        "plt.plot(min_child_weight,train_scores,label='Train Score')\n",
        "plt.plot(min_child_weight,test_scores,label='Test Score')\n",
        "plt.xlabel('min_child_weight')\n",
        "plt.ylabel('F1 Score')\n",
        "plt.title('min_child_weight vs score ')\n",
        "plt.show()"
      ],
      "metadata": {
        "colab": {
          "base_uri": "https://localhost:8080/",
          "height": 350
        },
        "id": "ZkVcC45MOx9a",
        "outputId": "8f4bbf1d-a54c-4f2f-8aed-6b5b94f57477"
      },
      "execution_count": null,
      "outputs": [
        {
          "output_type": "stream",
          "name": "stdout",
          "text": [
            "min_child_weight =  1 Train Score 0.9733823365630917 test Score 0.933043716653662\n",
            "min_child_weight =  5 Train Score 0.9735821545378142 test Score 0.932697582176463\n",
            "min_child_weight =  10 Train Score 0.9736269298911667 test Score 0.933454185198457\n"
          ]
        },
        {
          "output_type": "display_data",
          "data": {
            "text/plain": [
              "<Figure size 432x288 with 1 Axes>"
            ],
            "image/png": "[encoded data removed]"
          },
          "metadata": {
            "needs_background": "light"
          }
        }
      ]
    },
    {
      "cell_type": "code",
      "source": [
        "uniform(0.01,0.03,0.05,0.1,0.15,0.2),\n",
        "0.5, 1, 1.5, 2, 5),\n",
        "'subsample': [0.6, 0.8, 1.0],\n",
        "'colsample_bytree': [0.6, 0.8, 1.0],"
      ],
      "metadata": {
        "id": "a61O433TV4-U"
      },
      "execution_count": null,
      "outputs": []
    },
    {
      "cell_type": "code",
      "source": [
        "xgboost = XGBClassifier()\n",
        "params = {\n",
        "        'min_child_weight': sp_randint(1,10),\n",
        "        'learning_rate':[0.01,0.03,0.05,0.1,0.15,0.2],\n",
        "        'n_estimators' :sp_randint(60,100),\n",
        "        'gamma': [0.5, 1, 1.5, 2, 5],\n",
        "        'subsample': [0.6, 0.8, 1.0],\n",
        "        'colsample_bytree': [0.6, 0.8, 1.0],\n",
        "        'max_depth': sp_randint(3,10)\n",
        "          }\n",
        "          \n",
        "clf2=RandomizedSearchCV(xgboost,param_distributions = params,verbose=10,n_jobs=-1,random_state=42,scoring='f1',return_train_score=True)\n",
        "clf2.fit(X_train,y_train)\n",
        "print('mean test scores',clf2.cv_results_['mean_test_score'])\n",
        "print('mean train scores',clf2.cv_results_['mean_train_score'])"
      ],
      "metadata": {
        "colab": {
          "base_uri": "https://localhost:8080/"
        },
        "id": "j1r5EL9kvUDG",
        "outputId": "47bdb8ff-72f5-4170-d8d6-fce6f3d38da7"
      },
      "execution_count": null,
      "outputs": [
        {
          "output_type": "stream",
          "name": "stdout",
          "text": [
            "Fitting 5 folds for each of 10 candidates, totalling 50 fits\n",
            "mean test scores [0.97953322 0.97197283 0.96732525 0.97396556 0.97436622 0.97223802\n",
            " 0.92905581 0.97977453 0.973398   0.96763486]\n",
            "mean train scores [0.98850685 0.9725656  0.9682113  0.97564472 0.97533653 0.97435968\n",
            " 0.92927394 0.99012561 0.9752051  0.96832398]\n"
          ]
        }
      ]
    },
    {
      "cell_type": "code",
      "source": [
        "print('Best score:', clf2.best_score_)\n",
        "print('Best score:', clf2.best_params_)"
      ],
      "metadata": {
        "colab": {
          "base_uri": "https://localhost:8080/"
        },
        "id": "STTdJ6zyGl_1",
        "outputId": "800fba9c-b0e2-4c98-bd2a-2631f31ecac4"
      },
      "execution_count": null,
      "outputs": [
        {
          "output_type": "stream",
          "name": "stdout",
          "text": [
            "Best score: 0.9797745306900794\n",
            "Best score: {'colsample_bytree': 1.0, 'gamma': 2, 'learning_rate': 0.15, 'max_depth': 9, 'min_child_weight': 3, 'n_estimators': 73, 'subsample': 0.6}\n"
          ]
        }
      ]
    },
    {
      "cell_type": "code",
      "source": [
        "best_clf2 = XGBClassifier(subsample = 0.6, n_estimators=73 , min_child_weight=3, max_depth=9, learning_rate=0.15, gamma=2, colsample_bytree=1.0)\n",
        "best_clf2.fit(X_train,y_train)"
      ],
      "metadata": {
        "colab": {
          "base_uri": "https://localhost:8080/"
        },
        "id": "3VvYpZr0Iz_7",
        "outputId": "42b09ada-72c9-4c19-b0b4-f3f5b6d13fb4"
      },
      "execution_count": null,
      "outputs": [
        {
          "output_type": "execute_result",
          "data": {
            "text/plain": [
              "XGBClassifier(base_score=0.5, booster='gbtree', callbacks=None,\n",
              "              colsample_bylevel=1, colsample_bynode=1, colsample_bytree=1.0,\n",
              "              early_stopping_rounds=None, enable_categorical=False,\n",
              "              eval_metric=None, gamma=2, gpu_id=-1, grow_policy='depthwise',\n",
              "              importance_type=None, interaction_constraints='',\n",
              "              learning_rate=0.15, max_bin=256, max_cat_to_onehot=4,\n",
              "              max_delta_step=0, max_depth=9, max_leaves=0, min_child_weight=3,\n",
              "              missing=nan, monotone_constraints='()', n_estimators=73, n_jobs=0,\n",
              "              num_parallel_tree=1, predictor='auto', random_state=0,\n",
              "              reg_alpha=0, reg_lambda=1, ...)"
            ]
          },
          "metadata": {},
          "execution_count": 59
        }
      ]
    },
    {
      "cell_type": "code",
      "source": [
        "print(\"f1 score for train data\",f1_score(y_train,best_clf2.predict(X_train)))\n",
        "print(\"f1 score for test data\",f1_score(y_test,best_clf2.predict(X_test)))"
      ],
      "metadata": {
        "colab": {
          "base_uri": "https://localhost:8080/"
        },
        "id": "AvrP8m-zg95m",
        "outputId": "f769addf-d7a9-4d4c-ef34-7f2852792767"
      },
      "execution_count": null,
      "outputs": [
        {
          "output_type": "stream",
          "name": "stdout",
          "text": [
            "f1 score for train data 0.9876163480288683\n",
            "f1 score for test data 0.9271469789545147\n"
          ]
        }
      ]
    },
    {
      "cell_type": "code",
      "source": [
        "best_clf2 = XGBClassifier(subsample = 0.6, n_estimators=73 , min_child_weight=3, max_depth=9, learning_rate=0.15, gamma=2, colsample_bytree=1.0)\n",
        "best_clf2.fit(X_train,y_train)\n",
        "clf = CalibratedClassifierCV(best_clf2,method=\"sigmoid\",n_jobs=-1)\n",
        "clf.fit(X_train,y_train)"
      ],
      "metadata": {
        "colab": {
          "base_uri": "https://localhost:8080/"
        },
        "id": "FjBbKkFdG19t",
        "outputId": "4ef2789f-65ac-4be8-965f-9f7586a37fa9"
      },
      "execution_count": null,
      "outputs": [
        {
          "output_type": "execute_result",
          "data": {
            "text/plain": [
              "CalibratedClassifierCV(base_estimator=XGBClassifier(base_score=0.5,\n",
              "                                                    booster='gbtree',\n",
              "                                                    callbacks=None,\n",
              "                                                    colsample_bylevel=1,\n",
              "                                                    colsample_bynode=1,\n",
              "                                                    colsample_bytree=1.0,\n",
              "                                                    early_stopping_rounds=None,\n",
              "                                                    enable_categorical=False,\n",
              "                                                    eval_metric=None, gamma=2,\n",
              "                                                    gpu_id=-1,\n",
              "                                                    grow_policy='depthwise',\n",
              "                                                    importance_type=None,\n",
              "                                                    interaction_constraints='',\n",
              "                                                    learning_rate=0.15,\n",
              "                                                    max_bin=256,\n",
              "                                                    max_cat_to_onehot=4,\n",
              "                                                    max_delta_step=0,\n",
              "                                                    max_depth=9, max_leaves=0,\n",
              "                                                    min_child_weight=3,\n",
              "                                                    missing=nan,\n",
              "                                                    monotone_constraints='()',\n",
              "                                                    n_estimators=73, n_jobs=0,\n",
              "                                                    num_parallel_tree=1,\n",
              "                                                    predictor='auto',\n",
              "                                                    random_state=0, reg_alpha=0,\n",
              "                                                    reg_lambda=1, ...),\n",
              "                       n_jobs=-1)"
            ]
          },
          "metadata": {},
          "execution_count": 61
        }
      ]
    },
    {
      "cell_type": "code",
      "source": [
        "print(\"f1 score for train data\",f1_score(y_train,clf.predict(X_train)))\n",
        "print(\"f1 score for test data\",f1_score(y_test,clf.predict(X_test)))"
      ],
      "metadata": {
        "colab": {
          "base_uri": "https://localhost:8080/"
        },
        "id": "ENnze7XAg0BB",
        "outputId": "6999a3a3-0419-49b2-9cae-99ebca42d0cf"
      },
      "execution_count": null,
      "outputs": [
        {
          "output_type": "stream",
          "name": "stdout",
          "text": [
            "f1 score for train data 0.989572889512733\n",
            "f1 score for test data 0.9307700433083341\n"
          ]
        }
      ]
    },
    {
      "cell_type": "code",
      "source": [
        "from sklearn.metrics import log_loss\n",
        "predict_y = clf.predict_proba(X_train)\n",
        "print(\"the train log loss is\",log_loss(y_train,predict_y,labels=best_clf2.classes_))\n",
        "plot_confusion_matrix(y_train,clf.predict(X_train))\n",
        "\n",
        "predict_y = clf.predict_proba(X_test)\n",
        "print(\"the test log loss is\",log_loss(y_test,predict_y,labels = best_clf2.classes_))\n",
        "plot_confusion_matrix(y_test,clf.predict(X_test))\n"
      ],
      "metadata": {
        "colab": {
          "base_uri": "https://localhost:8080/",
          "height": 609
        },
        "id": "1rbt8xDoLDvW",
        "outputId": "843769ac-2380-42a8-907b-966e5d268bb9"
      },
      "execution_count": null,
      "outputs": [
        {
          "output_type": "stream",
          "name": "stdout",
          "text": [
            "the train log loss is 0.030108909563905897\n"
          ]
        },
        {
          "output_type": "display_data",
          "data": {
            "text/plain": [
              "<Figure size 1440x288 with 6 Axes>"
            ],
            "image/png": "[encoded data removed]"
          },
          "metadata": {
            "needs_background": "light"
          }
        },
        {
          "output_type": "stream",
          "name": "stdout",
          "text": [
            "the test log loss is 0.26979582114827527\n"
          ]
        },
        {
          "output_type": "display_data",
          "data": {
            "text/plain": [
              "<Figure size 1440x288 with 6 Axes>"
            ],
            "image/png": "[encoded data removed]"
          },
          "metadata": {
            "needs_background": "light"
          }
        }
      ]
    },
    {
      "cell_type": "markdown",
      "source": [
        "Conclusion :-\n",
        "\n",
        "1. Log loss for the test data is 0.269\n",
        "2. F1 score for test  data of the model is 0.930 and train score is 0.989"
      ],
      "metadata": {
        "id": "03iTrljsH2J0"
      }
    }
  ]
}