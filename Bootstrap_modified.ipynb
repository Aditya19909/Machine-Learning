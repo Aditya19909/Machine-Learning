{
  "cells": [
    {
      "cell_type": "markdown",
      "metadata": {
        "id": "view-in-github",
        "colab_type": "text"
      },
      "source": [
        "<a href=\"https://colab.research.google.com/github/Aditya19909/Machine-Learning/blob/main/Bootstrap_modified.ipynb\" target=\"_parent\"><img src=\"https://colab.research.google.com/assets/colab-badge.svg\" alt=\"Open In Colab\"/></a>"
      ]
    },
    {
      "cell_type": "markdown",
      "metadata": {
        "id": "3sNKZq4XrXQh"
      },
      "source": [
        "# <font color='red'><b>Bootstrap assignment</b> </font>"
      ]
    },
    {
      "cell_type": "markdown",
      "metadata": {
        "id": "RAHap1Z3FZC-"
      },
      "source": [
        "<b>There will be some functions that start with the word \"grader\" ex: grader_sampples(), grader_30().. etc, you should not change those function definition.\n",
        "\n",
        "Every Grader function has to return True.</b>"
      ]
    },
    {
      "cell_type": "markdown",
      "metadata": {
        "id": "cuxBq_bvrwh2"
      },
      "source": [
        "<font color='blue'> <b>Importing packages</b> </font>"
      ]
    },
    {
      "cell_type": "code",
      "execution_count": null,
      "metadata": {
        "id": "m6ag91ijrQOs"
      },
      "outputs": [],
      "source": [
        "import numpy as np # importing numpy for numerical computation\n",
        "from sklearn.datasets import load_boston # here we are using sklearn's boston dataset\n",
        "from sklearn.metrics import mean_squared_error # importing mean_squared_error metric\n",
        "import random\n",
        "import warnings\n",
        "warnings.filterwarnings(\"ignore\")"
      ]
    },
    {
      "cell_type": "code",
      "execution_count": null,
      "metadata": {
        "id": "CcHOsONTt1K_"
      },
      "outputs": [],
      "source": [
        "boston = load_boston()\n",
        "x=boston.data #independent variables\n",
        "y=boston.target #target variable"
      ]
    },
    {
      "cell_type": "code",
      "execution_count": null,
      "metadata": {
        "colab": {
          "base_uri": "https://localhost:8080/"
        },
        "id": "pc1htEFYuLRj",
        "outputId": "31dc230e-6544-403b-a9b8-3c60ef32f28d"
      },
      "outputs": [
        {
          "output_type": "execute_result",
          "data": {
            "text/plain": [
              "(506, 13)"
            ]
          },
          "metadata": {},
          "execution_count": 3
        }
      ],
      "source": [
        "x.shape"
      ]
    },
    {
      "cell_type": "code",
      "execution_count": null,
      "metadata": {
        "colab": {
          "base_uri": "https://localhost:8080/"
        },
        "id": "kQle3T_wuOa3",
        "outputId": "44d3a1bf-8ca8-43be-aa2e-9326608960f5"
      },
      "outputs": [
        {
          "output_type": "execute_result",
          "data": {
            "text/plain": [
              "array([[6.3200e-03, 1.8000e+01, 2.3100e+00, 0.0000e+00, 5.3800e-01,\n",
              "        6.5750e+00, 6.5200e+01, 4.0900e+00, 1.0000e+00, 2.9600e+02,\n",
              "        1.5300e+01, 3.9690e+02, 4.9800e+00],\n",
              "       [2.7310e-02, 0.0000e+00, 7.0700e+00, 0.0000e+00, 4.6900e-01,\n",
              "        6.4210e+00, 7.8900e+01, 4.9671e+00, 2.0000e+00, 2.4200e+02,\n",
              "        1.7800e+01, 3.9690e+02, 9.1400e+00],\n",
              "       [2.7290e-02, 0.0000e+00, 7.0700e+00, 0.0000e+00, 4.6900e-01,\n",
              "        7.1850e+00, 6.1100e+01, 4.9671e+00, 2.0000e+00, 2.4200e+02,\n",
              "        1.7800e+01, 3.9283e+02, 4.0300e+00],\n",
              "       [3.2370e-02, 0.0000e+00, 2.1800e+00, 0.0000e+00, 4.5800e-01,\n",
              "        6.9980e+00, 4.5800e+01, 6.0622e+00, 3.0000e+00, 2.2200e+02,\n",
              "        1.8700e+01, 3.9463e+02, 2.9400e+00],\n",
              "       [6.9050e-02, 0.0000e+00, 2.1800e+00, 0.0000e+00, 4.5800e-01,\n",
              "        7.1470e+00, 5.4200e+01, 6.0622e+00, 3.0000e+00, 2.2200e+02,\n",
              "        1.8700e+01, 3.9690e+02, 5.3300e+00]])"
            ]
          },
          "metadata": {},
          "execution_count": 4
        }
      ],
      "source": [
        "x[:5]"
      ]
    },
    {
      "cell_type": "markdown",
      "metadata": {
        "id": "AEa_HqRZloH4"
      },
      "source": [
        "## <font color='red'><b>Task 1</b></font>"
      ]
    },
    {
      "cell_type": "markdown",
      "metadata": {
        "id": "YQ5q8IxHNRk3"
      },
      "source": [
        "<font color='red'> <b>Step - 1</b></font>"
      ]
    },
    {
      "cell_type": "markdown",
      "metadata": {
        "id": "GJCFCaOzl7Mr"
      },
      "source": [
        "*  <font color='blue'><b>Creating samples</b></font><br>\n",
        "    <b> Randomly create 30 samples from the whole boston data points</b>\n",
        "    *  Creating each sample: Consider any random 303(60% of 506) data points from whole data set and then replicate any 203 points from the sampled points\n",
        "    \n",
        "     For better understanding of this procedure lets check this examples, assume we have 10 data points [1,2,3,4,5,6,7,8,9,10], first we take 6 data points randomly , consider we have selected [4, 5, 7, 8, 9, 3] now we will replicate 4 points from [4, 5, 7, 8, 9, 3], consder they are [5, 8, 3,7] so our final sample will be [4, 5, 7, 8, 9, 3, 5, 8, 3,7]\n",
        "* <font color='blue'><b> Create 30 samples </b></font>\n",
        "    *  Note that as a part of the Bagging when you are taking the random samples <b>make sure each of the sample will have different set of columns</b><br>\n",
        "Ex: Assume we have 10 columns[1 ,2 ,3 ,4 ,5 ,6 ,7 ,8 ,9 ,10] for the first sample we will select [3, 4, 5, 9, 1, 2] and for the second sample  [7, 9, 1, 4, 5, 6, 2] and so on...\n",
        "Make sure each sample will have atleast 3 feautres/columns/attributes\n",
        "\n",
        "* <font color='red'><b> Note - While selecting the random 60% datapoints from the whole data, make sure that the selected datapoints are all exclusive, repetition is not allowed. </b></font>"
      ]
    },
    {
      "cell_type": "markdown",
      "metadata": {
        "id": "zUqFEBSvNjCa"
      },
      "source": [
        "<font color='red'><b>Step - 2 </b></font>"
      ]
    },
    {
      "cell_type": "markdown",
      "metadata": {
        "id": "uqi9AhCYNq3Z"
      },
      "source": [
        "<font color='blue'><b>Building High Variance Models on each of the sample and finding train MSE value</b></font>"
      ]
    },
    {
      "cell_type": "markdown",
      "metadata": {
        "id": "-lLBnZHXOFln"
      },
      "source": [
        "*  Build a regression trees on each of 30 samples.\n",
        "*  Computed the predicted values of each data point(506 data points) in your corpus.\n",
        "*  Predicted house price of $i^{th}$ data point $y^{i}_{pred} =  \\frac{1}{30}\\sum_{k=1}^{30}(\\text{predicted value of } x^{i} \\text{ with } k^{th} \\text{ model})$\n",
        "*  Now calculate the $MSE =  \\frac{1}{506}\\sum_{i=1}^{506}(y^{i} - y^{i}_{pred})^{2}$"
      ]
    },
    {
      "cell_type": "markdown",
      "metadata": {
        "id": "Kls23JLnSN23"
      },
      "source": [
        "<font color='red'> <b>Step - 3 </b></font>"
      ]
    },
    {
      "cell_type": "markdown",
      "metadata": {
        "id": "rz2GchkGSWnh"
      },
      "source": [
        "*  <font color='blue'><b>Calculating the OOB score </b></font>"
      ]
    },
    {
      "cell_type": "markdown",
      "metadata": {
        "id": "DGHkVV2kSibm"
      },
      "source": [
        "*  Predicted house price of $i^{th}$ data point $y^{i}_{pred} =  \\frac{1}{k}\\sum_{\\text{k= model which was buit on samples not included } x^{i}}(\\text{predicted value of } x^{i} \\text{ with } k^{th} \\text{ model})$.\n",
        "*  Now calculate the $OOB Score =  \\frac{1}{506}\\sum_{i=1}^{506}(y^{i} - y^{i}_{pred})^{2}$."
      ]
    },
    {
      "cell_type": "markdown",
      "metadata": {
        "id": "RK860ocxTyoz"
      },
      "source": [
        "# <font color='red'><b>Task 2</b></font>"
      ]
    },
    {
      "cell_type": "markdown",
      "metadata": {
        "id": "1dme-N6TUCrY"
      },
      "source": [
        "*  <font color='blue'><b>Computing CI of OOB Score and Train MSE</b></font>\n",
        "  *   Repeat Task 1 for 35 times, and for each iteration store the Train MSE and OOB score </li>\n",
        "<li> After this we will have 35 Train MSE values and 35 OOB scores </li>\n",
        "<li> using these 35 values (assume like a sample) find the confidence intravels of MSE and OOB Score </li>\n",
        "<li> you need to report CI of MSE and CI of OOB Score </li>\n",
        "<li> Note: Refer the Central_Limit_theorem.ipynb to check how to find the confidence intravel</li>\n",
        "</ol>"
      ]
    },
    {
      "cell_type": "markdown",
      "metadata": {
        "id": "O6UcH1x9Uwrj"
      },
      "source": [
        "# <font color='red'><b>Task 3</b></font>"
      ]
    },
    {
      "cell_type": "markdown",
      "metadata": {
        "id": "bOC_AgsLU7OH"
      },
      "source": [
        "*  <font color='blue'><b>Given a single query point predict the price of house.</b></font>"
      ]
    },
    {
      "cell_type": "markdown",
      "metadata": {
        "id": "HYs5jSFdVILe"
      },
      "source": [
        "Consider xq= [0.18,20.0,5.00,0.0,0.421,5.60,72.2,7.95,7.0,30.0,19.1,372.13,18.60] \n",
        "Predict the house price for this point as mentioned in the step 2 of Task 1."
      ]
    },
    {
      "cell_type": "markdown",
      "metadata": {
        "id": "u6rShd89t552"
      },
      "source": [
        "## <font color='red'><b>A few key points</b></font>"
      ]
    },
    {
      "cell_type": "markdown",
      "metadata": {
        "id": "XdgTUXTouHEd"
      },
      "source": [
        "* Remember that the datapoints used for calculating MSE score contain some datapoints that were initially used while training the base learners (the 60% sampling). This makes these datapoints partially seen (i.e. the datapoints used for calculating the MSE score are a mixture of seen and unseen data).\n",
        "Whereas, the datapoints used for calculating OOB score have only the unseen data. This makes these datapoints completely unseen and therefore appropriate for testing the model's performance on unseen data.\n",
        "\n",
        "* Given the information above, if your logic is correct, the calculated MSE score should be less than the OOB score.\n",
        "\n",
        "* The MSE score must lie between 0 and 10.\n",
        "* The OOB score must lie between 10 and 35.\n",
        "\n",
        "* The difference between the left nad right confidence-interval values must not be more than 10. Make sure this is true for both MSE and OOB confidence-interval values."
      ]
    },
    {
      "cell_type": "markdown",
      "metadata": {
        "id": "V2fHTdS_zpgG"
      },
      "source": [
        "# <font color='blue'> <b>Task - 1</b></font>"
      ]
    },
    {
      "cell_type": "markdown",
      "metadata": {
        "id": "e0yGBuryOwHz"
      },
      "source": [
        "<font color='blue'><b>Step - 1</b></font>"
      ]
    },
    {
      "cell_type": "markdown",
      "metadata": {
        "id": "lJXX8vf3z073"
      },
      "source": [
        "*  <font color='blue'> <b>Creating samples</b></font>"
      ]
    },
    {
      "cell_type": "markdown",
      "metadata": {
        "id": "CSVaWG1F4uCZ"
      },
      "source": [
        "<font color='Orange'><b>Algorithm</b></font>\n",
        "\n",
        "![alt text](https://i.imgur.com/OfcFrUP.jpg/)"
      ]
    },
    {
      "cell_type": "markdown",
      "metadata": {
        "id": "f_oWoN97BhDY"
      },
      "source": [
        "*  <font color='blue'><b> Write code for generating samples</b></font>"
      ]
    },
    {
      "cell_type": "code",
      "execution_count": null,
      "metadata": {
        "id": "Ph_6D2SDzz7F"
      },
      "outputs": [],
      "source": [
        "def generating_samples(input_data, target_data):\n",
        "\n",
        "    '''In this function, we will write code for generating 30 samples '''\n",
        "    # you can use random.choice to generate random indices without replacement\n",
        "    # Please have a look at this link https://docs.scipy.org/doc/numpy-1.16.0/reference/generated/numpy.random.choice.html for more details\n",
        "    # Please follow above pseudo code for generating samples \n",
        "\n",
        "    selecting_rows = np.random.choice(input_data.shape[0], size=303, replace=False)\n",
        "    replacing_rows = np.random.choice(len(selecting_rows),size=203,replace=False)\n",
        "\n",
        "\n",
        "    selecting_columns = np.random.choice(input_data.shape[1],size=np.random.randint(3,13),replace=False)\n",
        "\n",
        "    sample_data = input_data[selecting_rows[:,None],selecting_columns]\n",
        "    target_of_sample_data = target_data[selecting_rows]\n",
        "\n",
        "    #replacating sample data\n",
        "    replicated_sample_data = sample_data[replacing_rows]\n",
        "    target_of_replicated_sample_data = target_of_sample_data[replacing_rows]\n",
        "\n",
        "    #concatination of data\n",
        "    final_sample_data = np.vstack((sample_data,replicated_sample_data)).tolist()\n",
        "    final_target_data = np.vstack((target_of_sample_data.reshape(-1,1),target_of_replicated_sample_data.reshape(-1,1))).tolist()\n",
        "\n",
        "    return final_sample_data,final_target_data,selecting_rows.tolist(),selecting_columns.tolist()\n",
        "    #note please return as lists"
      ]
    },
    {
      "cell_type": "markdown",
      "metadata": {
        "id": "MivEQFlm7iOg"
      },
      "source": [
        "<font color='cyan'> <b> Grader function - 1 </b> </fongt>"
      ]
    },
    {
      "cell_type": "code",
      "execution_count": null,
      "metadata": {
        "id": "AVvuhNzm7uld",
        "colab": {
          "base_uri": "https://localhost:8080/"
        },
        "outputId": "6ed0ed9a-9726-4e58-fce0-4c7433daef96"
      },
      "outputs": [
        {
          "output_type": "execute_result",
          "data": {
            "text/plain": [
              "True"
            ]
          },
          "metadata": {},
          "execution_count": 7
        }
      ],
      "source": [
        "def grader_samples(a,b,c,d):\n",
        "    length = (len(a)==506  and len(b)==506)\n",
        "    sampled = (len(a)-len(set([str(i) for i in a]))==203)\n",
        "    rows_length = (len(c)==303)\n",
        "    column_length= (len(d)>=3)\n",
        "    assert(length and sampled and rows_length and column_length)\n",
        "    return True\n",
        "a,b,c,d = generating_samples(x, y)\n",
        "grader_samples(a,b,c,d)"
      ]
    },
    {
      "cell_type": "markdown",
      "metadata": {
        "id": "b4LSsmn4Jn2_"
      },
      "source": [
        "*  <font color='blue'> <b>Create 30 samples </b>"
      ]
    },
    {
      "cell_type": "markdown",
      "metadata": {
        "id": "3ec7MN6sL2BZ"
      },
      "source": [
        "![alt text](https://i.imgur.com/p8eZaWL.jpg)"
      ]
    },
    {
      "cell_type": "code",
      "execution_count": null,
      "metadata": {
        "id": "XXlKWjCcBvTk"
      },
      "outputs": [],
      "source": [
        "# Use generating_samples function to create 30 samples \n",
        "# store these created samples in a list\n",
        "list_input_data =[]\n",
        "list_output_data =[]\n",
        "list_selected_row= []\n",
        "list_selected_columns=[]\n",
        "\n",
        "for i in range(0,30):\n",
        "  a,b,c,d = generating_samples(x,y)\n",
        "  list_input_data.append(a)\n",
        "  list_output_data.append(b)\n",
        "  list_selected_row.append(c)\n",
        "  list_selected_columns.append(d)"
      ]
    },
    {
      "cell_type": "markdown",
      "metadata": {
        "id": "MXUz9VFiMQkh"
      },
      "source": [
        "<font color='cyan'> <b>Grader function - 2 </b></font>"
      ]
    },
    {
      "cell_type": "code",
      "execution_count": null,
      "metadata": {
        "id": "hCvIq8NuMWOC",
        "colab": {
          "base_uri": "https://localhost:8080/"
        },
        "outputId": "dac0a327-63c4-471c-e6f1-a54022938bd1"
      },
      "outputs": [
        {
          "output_type": "execute_result",
          "data": {
            "text/plain": [
              "True"
            ]
          },
          "metadata": {},
          "execution_count": 9
        }
      ],
      "source": [
        "def grader_30(a):\n",
        "    assert(len(a)==30 and len(a[0])==506)\n",
        "    return True\n",
        "grader_30(list_input_data)"
      ]
    },
    {
      "cell_type": "markdown",
      "metadata": {
        "id": "7Pv-mkZkO6dh"
      },
      "source": [
        "<br>"
      ]
    },
    {
      "cell_type": "markdown",
      "metadata": {
        "id": "whaHCPB0O8qF"
      },
      "source": [
        "<font color='red'><b>Step - 2 </b></font>"
      ]
    },
    {
      "cell_type": "markdown",
      "metadata": {
        "id": "XBy4zXSWPtU8"
      },
      "source": [
        "<font color='orange'><b>Flowchart for building tree</b></font>"
      ]
    },
    {
      "cell_type": "markdown",
      "metadata": {
        "id": "5xvH06HPQBdP"
      },
      "source": [
        "![alt text](https://i.imgur.com/pcXfSmp.png)"
      ]
    },
    {
      "cell_type": "markdown",
      "metadata": {
        "id": "WRwPO_uHQjul"
      },
      "source": [
        "*  <font color='blue'><b> Write code for building regression trees</b></font>"
      ]
    },
    {
      "cell_type": "code",
      "execution_count": null,
      "metadata": {
        "id": "YWQp6tRwMthq"
      },
      "outputs": [],
      "source": [
        "from sklearn.tree import DecisionTreeRegressor\n",
        "list_of_all_models = []\n",
        "for i in range(len(list_input_data)):\n",
        "  model_i = DecisionTreeRegressor(max_depth=None)\n",
        "  model_i.fit(list_input_data[i],list_output_data[i])\n",
        "  list_of_all_models.append(model_i)\n",
        "\n"
      ]
    },
    {
      "cell_type": "markdown",
      "metadata": {
        "id": "21j8BKfAQ1U8"
      },
      "source": [
        "<font color='orange'><b>Flowchart for calculating MSE </b></font>"
      ]
    },
    {
      "cell_type": "markdown",
      "metadata": {
        "id": "8Q0mTBD2RBx_"
      },
      "source": [
        "![alt text](https://i.imgur.com/sPEE618.png)"
      ]
    },
    {
      "cell_type": "markdown",
      "metadata": {
        "id": "6e-UamlHRjPy"
      },
      "source": [
        "After getting predicted_y for each data point, we can use sklearns mean_squared_error to calculate the MSE between predicted_y and actual_y."
      ]
    },
    {
      "cell_type": "markdown",
      "metadata": {
        "id": "TnIMT7_oR312"
      },
      "source": [
        "*  <font color='blue'><b> Write code for calculating MSE</b></font>"
      ]
    },
    {
      "cell_type": "code",
      "execution_count": null,
      "metadata": {
        "id": "qWhcvMRWRA9b"
      },
      "outputs": [],
      "source": [
        "from sklearn.metrics import mean_squared_error\n",
        "array_of_Y = []\n",
        "\n",
        "for i in range (len(list_selected_columns)):\n",
        "  data_point_i = x[:,list_selected_columns[i]]\n",
        "  Y_i = list_of_all_models[i].predict(data_point_i)\n",
        "  array_of_Y.append(Y_i)\n"
      ]
    },
    {
      "cell_type": "code",
      "source": [
        "pred_y = np.array(array_of_Y)\n",
        "pred_y =pred_y.transpose()\n",
        "\n",
        "#calculating median \n",
        "from statistics import median\n",
        "median_pred_y = np.median(pred_y,axis=1)\n",
        "\n",
        "#calculating MSE\n",
        "MSE = mean_squared_error(y,median_pred_y)\n",
        "print(\"MSE :\",MSE)"
      ],
      "metadata": {
        "colab": {
          "base_uri": "https://localhost:8080/"
        },
        "id": "_p610_8i-j2C",
        "outputId": "7ae665b6-0262-4f1a-c8cf-3a9eaf768b98"
      },
      "execution_count": null,
      "outputs": [
        {
          "output_type": "stream",
          "name": "stdout",
          "text": [
            "MSE : 0.00631422924901186\n"
          ]
        }
      ]
    },
    {
      "cell_type": "markdown",
      "metadata": {
        "id": "RuclPDMnSz8F"
      },
      "source": [
        "<font color='blue'><b>Step - 3 </b></font>"
      ]
    },
    {
      "cell_type": "markdown",
      "metadata": {
        "id": "ESb9FSIDTM5V"
      },
      "source": [
        "<font color='orange'><b>Flowchart for calculating OOB score</b></font>"
      ]
    },
    {
      "cell_type": "markdown",
      "metadata": {
        "id": "HB-d6NMETbd9"
      },
      "source": [
        "![alt text](https://i.imgur.com/95S5Mtm.png)"
      ]
    },
    {
      "cell_type": "markdown",
      "metadata": {
        "id": "WW3GOcFzTqbt"
      },
      "source": [
        "Now calculate the $OOB Score =  \\frac{1}{506}\\sum_{i=1}^{506}(y^{i} - y^{i}_{pred})^{2}$."
      ]
    },
    {
      "cell_type": "markdown",
      "metadata": {
        "id": "zBqcS03pUYSZ"
      },
      "source": [
        "*  <font color='blue'><b> Write code for calculating OOB score </b></font>"
      ]
    },
    {
      "cell_type": "code",
      "execution_count": null,
      "metadata": {
        "id": "Fog_6DNdS-h_",
        "colab": {
          "base_uri": "https://localhost:8080/"
        },
        "outputId": "342ecde3-833e-41bd-92d7-c92afe69097a"
      },
      "outputs": [
        {
          "output_type": "stream",
          "name": "stdout",
          "text": [
            "OOB SCORE IS :  14.867765837725063\n"
          ]
        }
      ],
      "source": [
        "y_pred_oob_median = []      #refernce-https://www.kaggle.com/code/paulrohan2020/implementation-of-bootstrap-in-random-forest/notebook\n",
        "\n",
        "for i in range(506):\n",
        "  oob_data_list=[]\n",
        "\n",
        "  for j in range(30):     #selecting rows which were not present in samples\n",
        "    if i not in list_selected_row[j]:\n",
        "      oob_data_list.append(j)\n",
        "\n",
        "  y_pred_oob=[]\n",
        "\n",
        "  for model_index in oob_data_list:\n",
        "    model = list_of_all_models[model_index]\n",
        "\n",
        "    row_oob =x[i]           #selecting those columns which were selected in bootstrapping\n",
        "    x_oob_data = [row_oob[columns] for columns in list_selected_columns[model_index]]\n",
        "\n",
        "    x_oob_data = np.array(x_oob_data).reshape(1,-1)\n",
        "\n",
        "    y_pred_oob_model=model.predict(x_oob_data)      #fitting model on selected data\n",
        "    y_pred_oob.append(y_pred_oob_model)\n",
        "\n",
        "  y_pred_oob = np.array(y_pred_oob)\n",
        "\n",
        "  y_pred_median = np.median(y_pred_oob)     #calculating median\n",
        "  y_pred_oob_median.append(y_pred_median)\n",
        "\n",
        "\n",
        "def OOB_Score(rows):        #Now calculate the  OOBScore=1506∑506i=1(yi−yipred)2 .\n",
        "  score = 0\n",
        "  #n=len(rows)\n",
        "  for i in range(rows):\n",
        "    score+= ((y[i]-y_pred_oob_median[i])**2)\n",
        "  oob_score = score/506\n",
        "  return oob_score\n",
        "\n",
        "\n",
        "score = OOB_Score(506)\n",
        "print(\"OOB SCORE IS : \",score)\n",
        "    "
      ]
    },
    {
      "cell_type": "markdown",
      "metadata": {
        "id": "sbuiwX3OUjUI"
      },
      "source": [
        "# <font color='blue'><b>Task 2</b></font>"
      ]
    },
    {
      "cell_type": "code",
      "execution_count": null,
      "metadata": {
        "id": "ceW5-D88Uswi"
      },
      "outputs": [],
      "source": [
        "#Computing CI of OOB Score and Train MSE\n",
        "#Repeat Task 1 for 35 times, and for each iteration store the Train MSE and OOB score\n",
        "#After this we will have 35 Train MSE values and 35 OOB scores\n",
        "#using these 35 values (assume like a sample) find the confidence intravels of MSE and OOB Score\n",
        "#you need to report CI of MSE and CI of OOB Score\n",
        "#Note: Refer the Central_Limit_theorem.ipynb to check how to find the confidence intravel"
      ]
    },
    {
      "cell_type": "code",
      "source": [
        "def bootstrapping(x,y):\n",
        "# Use generating_samples function to create 30 samples \n",
        "# store these created samples in a list\n",
        "  list_input_data =[]\n",
        "  list_output_data =[]\n",
        "  list_selected_row= []\n",
        "  list_selected_columns=[]\n",
        "\n",
        "  for i in range(0,30):\n",
        "    a,b,c,d = generating_samples(x,y)\n",
        "    list_input_data.append(a)\n",
        "    list_output_data.append(b)\n",
        "    list_selected_row.append(c)\n",
        "    list_selected_columns.append(d)\n",
        "\n",
        "  list_of_all_models = []   #creating models for decision tree\n",
        "  for i in range(len(list_input_data)):\n",
        "    model_i = DecisionTreeRegressor(max_depth=None)\n",
        "    model_i.fit(list_input_data[i],list_output_data[i])\n",
        "    list_of_all_models.append(model_i)\n",
        "\n",
        "  array_of_Y = []\n",
        "\n",
        "#calculating MSE\n",
        "  for i in range (len(list_selected_columns)):\n",
        "    data_point_i = x[:,list_selected_columns[i]]\n",
        "    Y_i = list_of_all_models[i].predict(data_point_i)\n",
        "    array_of_Y.append(Y_i)\n",
        "    pred_y = np.array(array_of_Y)\n",
        "    pred_y =pred_y.transpose()\n",
        "\n",
        "    #calculating median \n",
        "    from statistics import median\n",
        "    median_pred_y = np.median(pred_y,axis=1)\n",
        "\n",
        "    #calculating MSE\n",
        "    MSE = mean_squared_error(y,median_pred_y)\n",
        "    #print(\"MSE :\",MSE)\n",
        "\n",
        "    #calculate OOB SCORE\n",
        "    y_pred_oob_median = []      #refernce-https://www.kaggle.com/code/paulrohan2020/implementation-of-bootstrap-in-random-forest/notebook\n",
        "\n",
        "    for i in range(0,506):\n",
        "      oob_data_list=[]\n",
        "\n",
        "      for j in range(0,30):     #selecting rows which were not present in samples\n",
        "        if i not in list_selected_row[j]:\n",
        "          oob_data_list.append(j)\n",
        "\n",
        "      y_pred_oob=[]\n",
        "      \n",
        "      for model_index in oob_data_list:\n",
        "        model = list_of_all_models[model_index]\n",
        "\n",
        "        row_oob =x[i]           #selecting those columns which were selected in bootstrapping\n",
        "        x_oob_data = [row_oob[columns] for columns in list_selected_columns[model_index]]\n",
        "\n",
        "        x_oob_data = np.array(x_oob_data).reshape(1,-1)\n",
        "\n",
        "        y_pred_oob_model=model.predict(x_oob_data)      #fitting model on selected data\n",
        "        y_pred_oob.append(y_pred_oob_model)\n",
        "\n",
        "      y_pred_oob = np.array(y_pred_oob)\n",
        "\n",
        "      y_pred_median = np.median(y_pred_oob)     #calculating median\n",
        "      y_pred_oob_median.append(y_pred_median)\n",
        "\n",
        "\n",
        "    def OOB_Score(rows):        #Now calculate the  OOBScore=1506∑506i=1(yi−yipred)2 .\n",
        "      score = 0\n",
        "      #n=len(rows)\n",
        "      for i in range(rows):\n",
        "        score+= ((y[i]-y_pred_oob_median[i])**2)\n",
        "      oob_score = score/506\n",
        "      return oob_score\n",
        "\n",
        "\n",
        "    score = OOB_Score(506)\n",
        "    #print(\"OOB SCORE IS : \",score)\n",
        "\n",
        "  return MSE,score\n",
        "\n",
        "print(bootstrapping(x,y))\n",
        "\n",
        "\n"
      ],
      "metadata": {
        "colab": {
          "base_uri": "https://localhost:8080/"
        },
        "id": "45rlWXg9FtKO",
        "outputId": "85e75a01-3e0d-446f-db29-bb7ee8cb8e09"
      },
      "execution_count": null,
      "outputs": [
        {
          "output_type": "stream",
          "name": "stdout",
          "text": [
            "(0.014342885375494064, 13.325814780306864)\n"
          ]
        }
      ]
    },
    {
      "cell_type": "code",
      "source": [
        "#repeating bootstrap for 35 times\n",
        "MSE_score_ci = []\n",
        "OOB_score_ci = []\n",
        "\n",
        "for i in range(35):\n",
        "  mse_score,oob_score=bootstrapping(x,y)\n",
        "  MSE_score_ci.append(mse_score)\n",
        "  OOB_score_ci.append(oob_score)\n"
      ],
      "metadata": {
        "id": "0MpuY3OGhROv"
      },
      "execution_count": null,
      "outputs": []
    },
    {
      "cell_type": "code",
      "source": [
        "def CI(mse_ci,oob_ci):    #reference-https://www.statisticshowto.com/probability-and-statistics/confidence-interval/\n",
        "  import scipy\n",
        "  import math\n",
        "  import statistics\n",
        "  size = len(mse_ci)\n",
        "  degree_of_freedom = size-1\n",
        "  #Subtract the confidence level from 1, then divide by two.\n",
        "  alpha = (1-0.95)/2        #0.025\n",
        "\n",
        "  #2.033\n",
        "  # Look up your answers to step 1 and 2 in the t-distribution table. For 35 degrees of freedom (df) and α = 0.025\n",
        "\n",
        "  #Divide your sample standard deviation by the square root of your sample size.\n",
        "  std_dev_mse = statistics.stdev(mse_ci)\n",
        "  std_dev_oob = statistics.stdev(oob_ci)\n",
        "\n",
        "  mean_mse = statistics.mean(mse_ci)\n",
        "  mean_oob = statistics.mean(oob_ci)\n",
        "\n",
        "  sample_mse = std_dev_mse/math.sqrt(size)\n",
        "  sample_oob = std_dev_oob/math.sqrt(size)\n",
        "\n",
        "\n",
        "  #Multiply step 3 by step 4.\n",
        "  sample_value_mse = alpha*sample_mse\n",
        "  sample_value_oob = alpha*sample_oob\n",
        "\n",
        "  #lower end range\n",
        "  lower_range_mse = mean_mse - sample_value_mse\n",
        "  lower_range_oob = mean_oob - sample_value_oob\n",
        "\n",
        "  #For the upper end of the range, add step 5 to the sample mean.\n",
        "  upper_range_mse = mean_mse + sample_value_mse\n",
        "  upper_range_oob = mean_oob + sample_value_oob\n",
        "\n",
        "  print(\"CI for MSE IS :\",lower_range_mse,upper_range_mse)\n",
        "  print(\"CI for OOB IS : \",lower_range_oob,upper_range_oob)\n",
        "\n",
        "\n",
        "CI(MSE_score_ci,OOB_score_ci)\n"
      ],
      "metadata": {
        "colab": {
          "base_uri": "https://localhost:8080/"
        },
        "id": "L0CT7kZXLLdN",
        "outputId": "aae3c828-a72f-407b-e20e-f9ff8de90445"
      },
      "execution_count": null,
      "outputs": [
        {
          "output_type": "stream",
          "name": "stdout",
          "text": [
            "CI for MSE IS : 0.07999815033035163 0.08046563474272461\n",
            "CI for OOB IS :  14.605322550820642 14.6183151229407\n"
          ]
        }
      ]
    },
    {
      "cell_type": "markdown",
      "metadata": {
        "id": "jKTnJdiBVS_e"
      },
      "source": [
        "# <font color='blue'><b>Task 3</b></font>"
      ]
    },
    {
      "cell_type": "markdown",
      "metadata": {
        "id": "eXxrvZqHV1Fr"
      },
      "source": [
        "<font color='orange'><b>Flowchart for Task 3</b></font>"
      ]
    },
    {
      "cell_type": "markdown",
      "metadata": {
        "id": "NyjwEJ62V6a6"
      },
      "source": [
        "<b>Hint: </b> We created 30 models by using 30 samples in TASK-1. Here, we need send query point \"xq\"  to 30 models and perform the regression on the output generated by 30 models."
      ]
    },
    {
      "cell_type": "markdown",
      "metadata": {
        "id": "0emSwLL7VurD"
      },
      "source": [
        "![alt text](https://i.imgur.com/Y5cNhQk.png)"
      ]
    },
    {
      "cell_type": "markdown",
      "metadata": {
        "id": "29hjwKlWWDfo"
      },
      "source": [
        "*  <font color='blue'><b> Write code for TASK 3 </b></font>"
      ]
    },
    {
      "cell_type": "code",
      "execution_count": null,
      "metadata": {
        "id": "i_pUlSD-VYD1",
        "colab": {
          "base_uri": "https://localhost:8080/"
        },
        "outputId": "2bdfc262-d393-470a-ec6a-3b2cf2421d07"
      },
      "outputs": [
        {
          "output_type": "stream",
          "name": "stdout",
          "text": [
            "predicted value is : 18.5\n"
          ]
        }
      ],
      "source": [
        "x_q = [0.18,20.0,5.00,0.0,0.421,5.60,72.2,7.95,7.0,30.0,19.1,372.13,18.60]\n",
        "\n",
        "y_final=[]\n",
        "for i in range(30):\n",
        "  model_i = list_of_all_models[i]\n",
        "  x_data_i = [x_q[col] for col in list_selected_columns[i]] #selecting features for query point\n",
        "\n",
        "  x_data_i = np.array(x_data_i).reshape(1,-1)\n",
        "  y_pred_i = model_i.predict(x_data_i)\n",
        "  #print(\"11\")\n",
        "  y_final.append(y_pred_i)\n",
        "  #print(\"22\")\n",
        "\n",
        "y_final = np.array(y_final)\n",
        "\n",
        "y_final_median = np.median(y_final)   #calculating median\n",
        "\n",
        "print(\"predicted value is :\",y_final_median)\n",
        " \n",
        "\n",
        "\n"
      ]
    },
    {
      "cell_type": "markdown",
      "metadata": {
        "id": "DJHTGEZgWJjR"
      },
      "source": [
        "<br><br><br>"
      ]
    },
    {
      "cell_type": "markdown",
      "metadata": {
        "id": "IOdUi-0xWOJ9"
      },
      "source": [
        "<font color='red'><b>Write observations for task 1, task 2, task 3 indetail</b></font>"
      ]
    },
    {
      "cell_type": "code",
      "execution_count": null,
      "metadata": {
        "id": "AIcax45hWKT-"
      },
      "outputs": [],
      "source": [
        "#for task1 MSE value is 0.006 while OOB score is 14.68\n",
        "\n",
        "#for task 2 the CI of MSE is between CI for MSE IS : (0.07999815033035163, 0.08046563474272461) which means 95% of total population is between 0.0799 and 0.0804\n",
        "#CI for OOB IS :  (14.605322550820642, 14.6183151229407) which means 95% of total population is is between 14.605 to 14.618\n",
        "\n",
        "#for task 3 the predicted price value is 18.5"
      ]
    }
  ],
  "metadata": {
    "colab": {
      "provenance": [],
      "include_colab_link": true
    },
    "kernelspec": {
      "display_name": "Python 3",
      "language": "python",
      "name": "python3"
    },
    "language_info": {
      "codemirror_mode": {
        "name": "ipython",
        "version": 3
      },
      "file_extension": ".py",
      "mimetype": "text/x-python",
      "name": "python",
      "nbconvert_exporter": "python",
      "pygments_lexer": "ipython3",
      "version": "3.6.3"
    }
  },
  "nbformat": 4,
  "nbformat_minor": 0
}